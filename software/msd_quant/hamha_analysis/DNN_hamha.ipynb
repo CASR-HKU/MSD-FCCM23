{
 "cells": [
  {
   "cell_type": "code",
   "execution_count": 1,
   "id": "b0c7c344",
   "metadata": {},
   "outputs": [],
   "source": [
    "import torch \n",
    "import torch.nn.functional as F\n",
    "import math\n",
    "import numpy as np\n",
    "from matplotlib import pyplot as plt "
   ]
  },
  {
   "cell_type": "code",
   "execution_count": 2,
   "id": "09465058",
   "metadata": {},
   "outputs": [],
   "source": [
    "\n",
    "def quantize_adaptivfloat(float_arr, n_bits=8, n_exp=4, bias = None):\n",
    "    \n",
    "    n_mant = n_bits-1-n_exp\n",
    "    # 1. store sign value and do the following part as unsigned value\n",
    "    sign = torch.sign(float_arr)\n",
    "    float_arr = torch.abs(float_arr)\n",
    "    \n",
    "    if (bias == None):\n",
    "       bias_temp = torch.frexp(float_arr.max())[1]-1\n",
    "       bias = (2**(n_exp-1) - 1) - bias_temp\n",
    "        \n",
    "    # 2. limits the range of output float point\n",
    "    min_exp = -2**(n_exp-1)+2-bias \n",
    "    max_exp = 2**(n_exp-1)-1-bias \n",
    "    \n",
    "    min_value = 2.**min_exp\n",
    "    max_value = (2.**max_exp)*(2-2**(-n_mant))\n",
    "\n",
    "    # Non denormal part \n",
    "    float_arr[float_arr < min_value] = 0\n",
    "    \n",
    "    ## 2.2. reduce too large values to max value of output format\n",
    "    float_arr[float_arr > max_value] = max_value\n",
    "    \n",
    "    # 3. get mant, exp (the format is different from IEEE float)\n",
    "    mant, exp = torch.frexp(float_arr)\n",
    "\n",
    "    \n",
    "    # 3.1 change mant, and exp format to IEEE float format\n",
    "    # no effect for exponent of 0 outputs\n",
    "    mant = 2*mant\n",
    "    exp = exp-1\n",
    "   \n",
    "    power_exp = torch.exp2(exp)\n",
    "    ## 4. quantize mantissa\n",
    "    scale = 2**(-n_mant) ## e.g. 2 bit, scale = 0.25\n",
    "    mant = ((mant/scale).round())*scale\n",
    "    \n",
    "    float_out = sign*power_exp*mant\n",
    "    \n",
    "    return float_out\n",
    "\n",
    "\n",
    "\n",
    "def flint_value(self, n_bits=8,  exp_base = 0):\n",
    "        ################## Flint Representation #################\n",
    "        B = n_bits\n",
    "\n",
    "        value_bit = B\n",
    "        assert(value_bit >= 2)\n",
    "\n",
    "        exp_num =     value_bit * 2 - 1\n",
    "        neg_exp_num = value_bit - 1\n",
    "        pos_exp_num = value_bit - 1\n",
    "       \n",
    "        \n",
    "        exp_max = pos_exp_num + exp_base\n",
    "        exp_min = -neg_exp_num\n",
    "\n",
    "        ## zero\n",
    "        values = [0.]\n",
    "\n",
    "        # values = [0.]\n",
    "        ## exponent negtive\n",
    "        for i in range(0, neg_exp_num + 1):\n",
    "            exp_bit = i + 2\n",
    "            exp_value = -(exp_bit - 1)\n",
    "            mant_bit = value_bit - exp_bit\n",
    "            for j in range(int(2 ** mant_bit)):\n",
    "                v = 2 ** exp_value * (1 + 2 ** (-mant_bit) * j)\n",
    "                values.append(v)\n",
    "                if self.is_signed:\n",
    "                    values.append(-v)\n",
    "\n",
    "        ## exponent zero\n",
    "        exp_bit = 2\n",
    "        exp_value = 0\n",
    "        mant_bit = value_bit - exp_bit\n",
    "        for j in range(int(2 ** mant_bit)):\n",
    "            v = 2 ** (exp_value + exp_base) * (1 + 2 ** (-mant_bit) * j)\n",
    "            values.append(v)\n",
    "\n",
    "        ## exponent positive     \n",
    "        for i in range(1, pos_exp_num):\n",
    "            exp_bit = i + 2\n",
    "            exp_value = i\n",
    "            mant_bit = value_bit - exp_bit\n",
    "            for j in range(int(2 ** mant_bit)):\n",
    "                v = 2 ** (exp_value + exp_base) * (1 + 2 ** (-mant_bit) * j)\n",
    "                values.append(v)\n",
    "\n",
    "        ## max value\n",
    "        values.append(2 ** exp_max)\n",
    "\n",
    "\n",
    "        return values\n",
    "\n",
    "\n",
    "def bit_flexible(float_arr, length = 10,n_bits=8,  exp_base = 0):\n",
    "    \n",
    "    reg = n_bits-1-exp_base #dynamic precision\n",
    "    # store sign value and do the following part as unsigned value\n",
    "    sign = torch.sign(float_arr)\n",
    "    float_arr = torch.abs(float_arr)\n",
    "     \n",
    "    # limits the range of output \n",
    "    min_precision = 2**(-(reg-1))\n",
    "    max_value = 2**reg\n",
    "\n",
    "    # Non denormal part \n",
    "    float_arr[float_arr < min_precision] = 0\n",
    "    float_arr[float_arr > max_value] = max_value\n",
    "    # convert float to our flexible format\n",
    "    integer = np.floor(float_arr)\n",
    "    mant = float_arr - integer\n",
    "    # print(\"int:\",integer)\n",
    "    # print(\"man:\",mant)\n",
    "    remain = reg - integer - 1\n",
    "    fraction = 2 **(-remain)\n",
    "    # print(\"fraction:\", fraction)\n",
    "    m = np.rint(mant/fraction) * fraction\n",
    "    # print(\"m:\", m)\n",
    "    outs = []\n",
    "    for i in range(0,length):\n",
    "      if integer[i] > 1:\n",
    "        #  base_exp = 2**(integer[i]-1) \n",
    "         base_exp = integer[i]\n",
    "         v = sign[i]*(base_exp+m[i])\n",
    "         outs.append(v)\n",
    "    \n",
    "      if integer[i] == 1:\n",
    "         base_exp = 2**(integer[i]-1) \n",
    "         v = sign[i]*(base_exp*(1+m[i]))\n",
    "         outs.append(v)\n",
    "      \n",
    "      if integer[i] == 0:\n",
    "         base_exp = 1\n",
    "         v = sign[i]*base_exp*(m[i])\n",
    "         outs.append(v)\n",
    "    \n",
    "    outs = torch.Tensor(outs)\n",
    "\n",
    "    return outs\n"
   ]
  },
  {
   "cell_type": "code",
   "execution_count": 3,
   "id": "4ff7b5f2",
   "metadata": {},
   "outputs": [],
   "source": [
    "\n",
    "def dynbit(n_bits, x: torch.Tensor):\n",
    "        \n",
    "        # n_bits = 4\n",
    "        # print(\"before weight shape :\",x.shape)\n",
    "        ori_shape = x.shape\n",
    "        x = x.reshape(-1)\n",
    "        \n",
    "#         length_tensor = x.size(0)\n",
    "        length_tensor = x.size(0)\n",
    "        exp_base = 0\n",
    "        reg = n_bits-1-exp_base #dynamic precision\n",
    "    # store sign value and do the following part as unsigned value\n",
    "        sign = torch.sign(x)\n",
    "        float_arr = torch.abs(x)\n",
    "     \n",
    "    # limits the range of output \n",
    "        min_precision = 2**(-(reg-1))\n",
    "        max_value = 2**reg\n",
    "\n",
    "    # Non denormal part \n",
    "        float_arr[float_arr < min_precision] = 0\n",
    "        float_arr[float_arr > max_value] = max_value\n",
    "    # convert float to our flexible format\n",
    "        integer = torch.floor(float_arr)\n",
    "        mant = float_arr - integer\n",
    "    # print(\"int:\",integer)\n",
    "    # print(\"man:\",mant)\n",
    "        remain = reg - integer - 1\n",
    "        fraction = 2 **(-remain)\n",
    "    # print(\"fraction:\", fraction)\n",
    "        m = torch.round(mant/fraction) * fraction\n",
    "    # print(\"m:\", m)\n",
    "        outs = []\n",
    "        for i in range(0,length_tensor):\n",
    "           if integer[i] > 1:\n",
    "        #  base_exp = 2**(integer[i]-1) \n",
    "             base_exp = integer[i]\n",
    "             v = sign[i]*(base_exp+m[i])\n",
    "             outs.append(v)\n",
    "    \n",
    "           if integer[i] == 1:\n",
    "             base_exp = 2**(integer[i]-1) \n",
    "             v = sign[i]*(base_exp*(1+m[i]))\n",
    "             outs.append(v)\n",
    "      \n",
    "           if integer[i] == 0:\n",
    "             base_exp = 1\n",
    "             v = sign[i]*base_exp*(m[i])\n",
    "             outs.append(v)\n",
    "    \n",
    "        x_out = torch.Tensor(outs)\n",
    "        x_out = x_out.reshape(ori_shape)\n",
    "        x_out = x_out.cuda()\n",
    "        print(\"After shape :\",x_out.shape)\n",
    "        return x_out"
   ]
  },
  {
   "cell_type": "code",
   "execution_count": 4,
   "id": "19783818",
   "metadata": {},
   "outputs": [],
   "source": [
    "\n",
    "class Bin2Dec():\n",
    "    def __init__(self):\n",
    "        pass\n",
    "\n",
    "    def bin2dec(self, a):\n",
    "        a_reverse = self.reverse(a)  # 取反\n",
    "    \n",
    "        a_add_1 = self.add_1(a_reverse)  # 二进制加1\n",
    "        a_int = -int(a_add_1, 2)\n",
    "        return a_int\n",
    "\n",
    "    def bin2dec_auto(self, a):\n",
    "        if a[0] == '1':  # 如果首位是1，复数转换\n",
    "            a_output = int(a, 2)\n",
    "        else:\n",
    "            a_output = int(a, 2)\n",
    "        return a_output\n",
    "\n",
    "    def add_1(self, binary_inpute):  # 二进制编码加1\n",
    "        _, out = bin(int(binary_inpute, 2) + 1).split(\"b\")\n",
    "        return out\n",
    "\n",
    "    def reverse(self, binary_inpute):  # 取反操作\n",
    "        binary_out = list(binary_inpute)\n",
    "        for epoch, i in enumerate(binary_out):\n",
    "            if i == \"0\":\n",
    "                binary_out[epoch] = \"1\"\n",
    "            else:\n",
    "                binary_out[epoch] = \"0\"\n",
    "        return \"\".join(binary_out)\n",
    "    \n",
    "def bit_essential(bin_str):\n",
    "       essential_num = 0\n",
    "       for b in range(len(bin_str)):\n",
    "        if bin_str[b] == '1':\n",
    "            essential_num += 1\n",
    "       return essential_num\n",
    "\n",
    "def lsb_quant(bin_str,bit_num,expect_eb=3):\n",
    "        EB = bit_num\n",
    "        quant_bit_num = EB - expect_eb\n",
    "        quant_bit = list(bin_str)\n",
    "        length = len(bin_str) - 1\n",
    "        one_index = []\n",
    "        for b in range(len(bin_str)):\n",
    "          if bin_str[length-b] == '1':\n",
    "            one_index.append(length-b)\n",
    "           \n",
    "\n",
    "        for b in range(quant_bit_num):\n",
    "            quant_index = one_index[b]\n",
    "            quant_bit[quant_index] = '0'\n",
    "\n",
    "        quant_bit = ''.join(quant_bit)\n",
    "        return quant_bit\n",
    "    \n",
    "\n",
    "def lsb_quant_0(value,bin_str,bit_num,expect_eb=3):\n",
    "    EB = bit_num\n",
    "    quant_bit_num = expect_eb - EB\n",
    "    quant_bit = list(bin_str)\n",
    "\n",
    "            \n",
    "    if value < 0:\n",
    "            length = len(bin_str) - 1\n",
    "            one_index = []\n",
    "            if length < expect_eb:\n",
    "               for b in range(expect_eb-length):\n",
    "                 quant_bit.append('1')\n",
    "                 add_1 = expect_eb - length\n",
    "            \n",
    "               for b in range(len(quant_bit)):\n",
    "                 if quant_bit[length-b] == '0':\n",
    "                    one_index.append(length-b)\n",
    "        \n",
    "               for b in range(quant_bit_num-add_1):\n",
    "                   quant_index = one_index[b]\n",
    "                   quant_bit[quant_index] = '1'\n",
    "            \n",
    "            if length == expect_eb:\n",
    "               for b in range(len(bin_str)):\n",
    "                  if bin_str[b] == '0':\n",
    "                     one_index.append(b)\n",
    "           \n",
    "\n",
    "               for b in range(quant_bit_num):\n",
    "                  quant_index = one_index[b]\n",
    "                  quant_bit[quant_index] = '1'\n",
    "    \n",
    "            if length > expect_eb:\n",
    "                # print(bin_str)\n",
    "                for b in range(len(bin_str)):\n",
    "                  if bin_str[length-b] == '0':\n",
    "                     one_index.append(length-b)\n",
    "\n",
    "\n",
    "                for b in range(quant_bit_num):\n",
    "                     quant_index = one_index[b]\n",
    "                     \n",
    "                     quant_bit[quant_index] = '1'  \n",
    "                    #  print(quant_bit)\n",
    "            \n",
    "            \n",
    "    if value >= 0:\n",
    "            length = len(bin_str) \n",
    "            one_index = []\n",
    "            if length < expect_eb:\n",
    "               for b in range(expect_eb-length):\n",
    "                 quant_bit.append('1')\n",
    "                 add_1 = expect_eb - length\n",
    "            \n",
    "               for b in range(len(quant_bit)):\n",
    "                 if quant_bit[length-b] == '0':\n",
    "                    one_index.append(length-b)\n",
    "        \n",
    "               for b in range(quant_bit_num-add_1):\n",
    "                   quant_index = one_index[b]\n",
    "                   quant_bit[quant_index] = '1'\n",
    "            \n",
    "            if length == expect_eb:\n",
    "               for b in range(len(bin_str)):\n",
    "                  if bin_str[b] == '0':\n",
    "                     one_index.append(b)\n",
    "           \n",
    "\n",
    "               for b in range(quant_bit_num):\n",
    "                  quant_index = one_index[b]\n",
    "                  quant_bit[quant_index] = '1'\n",
    "    \n",
    "            if length > expect_eb:\n",
    "\n",
    "               for b in range(len(bin_str)):\n",
    "                  if bin_str[length-b-1] == '0':\n",
    "                     one_index.append(length-b-1)\n",
    "\n",
    "\n",
    "               for b in range(quant_bit_num):\n",
    "                     quant_index = one_index[b]\n",
    "                     quant_bit[quant_index] = '1'\n",
    "              \n",
    "              \n",
    "            #    print(quant_bit)\n",
    "    quant_bit = ''.join(quant_bit)\n",
    "    \n",
    "    return quant_bit\n",
    "\n",
    "def hamha_eb_value(i, q_type=\"int\",expect_eb=3):\n",
    "        bit_width = 8\n",
    "        B = bit_width\n",
    "#         if self.is_signed:\n",
    "        B = bit_width - 1\n",
    "\n",
    "        values = []\n",
    "        values.append(0.)\n",
    "        for i in range(1, i.size):\n",
    "            bin_str = np.binary_repr(i)\n",
    "            bit_num = bit_essential(bin_str)\n",
    "           \n",
    "#             print(\"EB\",bit_num)\n",
    "#             print(\"binary\",bin_str)\n",
    "\n",
    "            \n",
    "            for s in range(expect_eb):\n",
    "                        quant_value = wgt_arr[i]\n",
    "#                         print(\"orignal value\",quant_value)\n",
    "                        bin_str = np.binary_repr(quant_value)\n",
    "#                         print(\"binary\",bin_str)\n",
    "                        bit_num = bit_essential(bin_str)\n",
    "#                         print(\"EB\",bit_num)\n",
    "                        quant_bit = lsb_quant_0(quant_value,bin_str,bit_num,expect_eb)\n",
    "                        # print(\"quant bit\", quant_bit)\n",
    "                        quant_bit_num = bit_essential(quant_bit)\n",
    "                        # print(\"Quant EB\",quant_bit_num)\n",
    "                        bin2dec = Bin2Dec()\n",
    "                        a = bin2dec.bin2dec_auto(quant_bit)\n",
    "#                         print(a)\n",
    "                        wgt_arr[i] = a \n",
    "            \n",
    "            \n",
    "            bin_str = np.binary_repr(wgt_arr[i])\n",
    "            bit_num = bit_essential(bin_str)\n",
    "            for m in range(7-expect_eb):\n",
    "                        quant_value = wgt_arr[i]\n",
    "                        # print(\"orignal value\",quant_value)\n",
    "                        bin_str = np.binary_repr(quant_value)\n",
    "                        # print(\"binary\",bin_str)\n",
    "                        bit_num = bit_essential(bin_str)\n",
    "                        # print(\"EB\",bit_num)\n",
    "                        quant_bit = lsb_quant(bin_str,bit_num,expect_eb)\n",
    "                        # print(\"quant bit\", quant_bit)\n",
    "                        quant_bit_num = bit_essential(quant_bit)\n",
    "                        # print(\"Quant EB\",quant_bit_num)\n",
    "                        bin2dec = Bin2Dec()\n",
    "                        a = bin2dec.bin2dec_auto(quant_bit)\n",
    "                        wgt_arr[i] = a \n",
    "                        \n",
    "            bin_str = np.binary_repr(wgt_arr[i])\n",
    "            bit_num = bit_essential(bin_str)            \n",
    "            if bit_num != expect_eb:\n",
    "                          bin_str = np.binary_repr(wgt_arr[i])\n",
    "                          new_bit_num = bit_essential(bin_str)\n",
    "                          print(\"binary\",i)\n",
    "                          print(\"new EB\",new_bit_num)\n",
    "                          \n",
    "            values.append(wgt_arr[i])\n",
    "#         if self.is_signed:\n",
    "            values.append(-wgt_arr[i])\n",
    "\n",
    "#             if q_type == \"int\":\n",
    "# #             if self.is_signed:\n",
    "#                 values.append(-2 ** B)\n",
    "        # print(\"int values :\", values)\n",
    "\n",
    "        return values"
   ]
  },
  {
   "cell_type": "code",
   "execution_count": 5,
   "id": "90e80f06",
   "metadata": {},
   "outputs": [],
   "source": [
    "from bisect import bisect_left\n",
    "\n",
    "\n",
    "def quantize_csd(input_num, eb=2):\n",
    "    twoslist = [1, 2, 4, 8, 16, 32, 64, 128]\n",
    "    iter_num = input_num\n",
    "    quant_num = 0\n",
    "    for index in range(eb):\n",
    "        base = findclosest(twoslist, iter_num)\n",
    "        if index == 0:\n",
    "            quant_num = base\n",
    "            # print(\"the 1st quant num is \", quant_num)\n",
    "            if base > iter_num:\n",
    "                sign_flag = 0  # 0-minus\n",
    "            else:\n",
    "                sign_flag = 1  # 1-plus\n",
    "            # print(\"sign flag =\", sign_flag)\n",
    "        else:\n",
    "            if sign_flag == 0:\n",
    "                quant_num = quant_num - base\n",
    "            else:\n",
    "                quant_num = quant_num + base\n",
    "            # print(\"the quant num is \", quant_num)\n",
    "            if base > iter_num:\n",
    "                if old_sign_flag == 0:\n",
    "                    sign_flag = 1\n",
    "                else:\n",
    "                    sign_flag = 0\n",
    "            else:\n",
    "                if old_sign_flag == 0:\n",
    "                    sign_flag = 0\n",
    "                else:\n",
    "                    sign_flag = 1\n",
    "            # print(\"sign flag =\", sign_flag)\n",
    "        old_sign_flag = sign_flag\n",
    "        iter_num = abs(base - iter_num)\n",
    "        # print(\"new iternum =\", iter_num)\n",
    "    return quant_num\n",
    "\n",
    "\n",
    "def findclosest(myList, input_num):\n",
    "    if (input_num > myList[-1] or input_num < myList[0]):\n",
    "        return False\n",
    "    pos = bisect_left(myList, input_num)\n",
    "    if pos == 0:\n",
    "        return myList[0]\n",
    "    if pos == len(myList):\n",
    "        return myList[-1]\n",
    "    before = myList[pos - 1]\n",
    "    after = myList[pos]\n",
    "    if after - input_num < input_num - before:\n",
    "        return after\n",
    "    else:\n",
    "        return before\n",
    "\n",
    "# def quantize_csd(input_num, eb=2):\n",
    "#     twoslist = [1, 2, 4, 8, 16, 32, 64, 128]\n",
    "#     iter_num = input_num\n",
    "#     quant_num = 0\n",
    "#     for index in range(eb):\n",
    "#         error_min_abs = 256\n",
    "#         for twos in twoslist:\n",
    "#             error = abs(twos - iter_num)\n",
    "#             if error_min_abs == 256 or error_min_abs > error:\n",
    "#                 error_min_abs = error\n",
    "#                 base = twos\n",
    "# #                 print(\"loop base = \", base)\n",
    "#             else:\n",
    "#                 if index == 0:\n",
    "#                     quant_num = base\n",
    "# #                     print(\"the 1st quant num is \", quant_num)\n",
    "#                 else:\n",
    "#                     if sign_flag == 0:\n",
    "#                         quant_num = quant_num - base\n",
    "#                     else:\n",
    "#                         quant_num = quant_num + base\n",
    "# #                     print(\"the 2nd quant num is \", quant_num)\n",
    "#                 break\n",
    "#         iter_num = abs(base - iter_num)\n",
    "# #         print(\"new iternum =\", iter_num)\n",
    "#         old_base = base\n",
    "#         if base > iter_num:\n",
    "#             sign_flag = 0  # 0-minus\n",
    "#         else:\n",
    "#             sign_flag = 1  # 1-plus\n",
    "#     return quant_num\n",
    "\n",
    "\n",
    "def hamha_csd_value(i, q_type=\"int\",expect_eb=3):\n",
    "        bit_width = 8\n",
    "        B = bit_width\n",
    "#         if self.is_signed:\n",
    "        B = bit_width - 1\n",
    "#         wgt_arr = i\n",
    "\n",
    "        values = []\n",
    "        values.append(0.)\n",
    "        for i in range(1, wgt_arr.size):\n",
    "            bin_str = np.binary_repr(i)\n",
    "            bit_num = bit_essential(bin_str)\n",
    "           \n",
    "\n",
    "\n",
    "            \n",
    "            for s in range(expect_eb):\n",
    "                        quant_value = wgt_arr[i]\n",
    "#                         print(\"orignal value\",quant_value)\n",
    "                        quant_bit_num = quantize_csd(quant_value,expect_eb)\n",
    "#                         print(\"binary\",bin_str)\n",
    "                    \n",
    "#                         print(a)\n",
    "                        wgt_arr[i] = quant_bit_num\n",
    "            \n",
    "        \n",
    "                          \n",
    "            values.append(wgt_arr[i])\n",
    "#         if self.is_signed:\n",
    "            values.append(-wgt_arr[i])\n",
    "\n",
    "#             if q_type == \"int\":\n",
    "# #             if self.is_signed:\n",
    "#                 values.append(-2 ** B)\n",
    "        # print(\"int values :\", values)\n",
    "\n",
    "        return values"
   ]
  },
  {
   "cell_type": "code",
   "execution_count": 6,
   "id": "ed0cc390",
   "metadata": {},
   "outputs": [
    {
     "name": "stdout",
     "output_type": "stream",
     "text": [
      "tensor([ 1.0456,  1.2456, -0.3686,  ..., -0.2804, -0.5323, -0.5737])\n",
      "tensor([ 1.0000,  1.2500, -0.3750,  ..., -0.2812, -0.5625, -0.5625])\n",
      "tensor([ 1.0312,  1.2500, -0.3750,  ..., -0.2812, -0.5312, -0.5781])\n"
     ]
    }
   ],
   "source": [
    "# i = 16*torch.randn(3,224,224)\n",
    "# i = np.random.uniform(-128,128,1000)\n",
    "i = 100*torch.FloatTensor(3,224,224).normal_(0, 0.01)\n",
    "\n",
    "#i = torch.FloatTensor(3,224,224).uniform_(-4, 4)\n",
    "\n",
    "i = i.reshape(-1)\n",
    "print(i)\n",
    "out = quantize_adaptivfloat(i)\n",
    "out1 = bit_flexible(i,length=3*224*224)\n",
    "\n",
    "print(out)\n",
    "   \n",
    "print(out1)"
   ]
  },
  {
   "cell_type": "code",
   "execution_count": 7,
   "id": "fa6b2434",
   "metadata": {},
   "outputs": [
    {
     "name": "stdout",
     "output_type": "stream",
     "text": [
      "After shape : torch.Size([100])\n",
      "tensor([-10.0000,  -9.7980,  -9.5960,  -9.3939,  -9.1919,  -8.9899,  -8.7879,\n",
      "         -8.5859,  -8.3838,  -8.1818,  -7.9798,  -7.7778,  -7.5758,  -7.3737,\n",
      "         -7.1717,  -6.9697,  -6.7677,  -6.5657,  -6.3636,  -6.1616,  -5.9596,\n",
      "         -5.7576,  -5.5556,  -5.3535,  -5.1515,  -4.9495,  -4.7475,  -4.5455,\n",
      "         -4.3434,  -4.1414,  -3.9394,  -3.7374,  -3.5354,  -3.3333,  -3.1313,\n",
      "         -2.9293,  -2.7273,  -2.5253,  -2.3232,  -2.1212,  -1.9192,  -1.7172,\n",
      "         -1.5152,  -1.3131,  -1.1111,  -0.9091,  -0.7071,  -0.5051,  -0.3030,\n",
      "         -0.1010,   0.1010,   0.3030,   0.5051,   0.7071,   0.9091,   1.1111,\n",
      "          1.3131,   1.5152,   1.7172,   1.9192,   2.1212,   2.3232,   2.5253,\n",
      "          2.7273,   2.9293,   3.1313,   3.3333,   3.5354,   3.7374,   3.9394,\n",
      "          4.1414,   4.3434,   4.5455,   4.7475,   4.9495,   5.1515,   5.3535,\n",
      "          5.5556,   5.7576,   5.9596,   6.1616,   6.3636,   6.5657,   6.7677,\n",
      "          6.9697,   7.1717,   7.3737,   7.5758,   7.7778,   7.9798,   8.1818,\n",
      "          8.3838,   8.5859,   8.7879,   8.9899,   9.1919,   9.3939,   9.5960,\n",
      "          9.7980,  10.0000])\n",
      "tensor([-10.0000,  -9.0000,  -9.0000,  -9.0000,  -9.0000,  -8.0000,  -8.0000,\n",
      "         -8.0000,  -8.0000,  -8.0000,  -7.0000,  -7.0000,  -7.0000,  -7.0000,\n",
      "         -7.0000,  -6.0000,  -6.0000,  -6.0000,  -6.0000,  -6.0000,  -5.0000,\n",
      "         -5.0000,  -5.0000,  -5.0000,  -5.0000,  -4.0000,  -4.0000,  -4.0000,\n",
      "         -4.0000,  -4.0000,  -4.0000,  -4.0000,  -4.0000,  -3.0000,  -3.0000,\n",
      "         -3.0000,  -2.5000,  -2.5000,  -2.5000,  -2.0000,  -2.0000,  -1.7500,\n",
      "         -1.5000,  -1.2500,  -1.0000,  -0.8750,  -0.7500,  -0.5000,  -0.2500,\n",
      "          0.0000,  -0.0000,   0.2500,   0.5000,   0.7500,   0.8750,   1.0000,\n",
      "          1.2500,   1.5000,   1.7500,   2.0000,   2.0000,   2.5000,   2.5000,\n",
      "          2.5000,   3.0000,   3.0000,   3.0000,   4.0000,   4.0000,   4.0000,\n",
      "          4.0000,   4.0000,   4.0000,   4.0000,   4.0000,   5.0000,   5.0000,\n",
      "          5.0000,   5.0000,   5.0000,   6.0000,   6.0000,   6.0000,   6.0000,\n",
      "          6.0000,   7.0000,   7.0000,   7.0000,   7.0000,   7.0000,   8.0000,\n",
      "          8.0000,   8.0000,   8.0000,   8.0000,   9.0000,   9.0000,   9.0000,\n",
      "          9.0000,  10.0000], device='cuda:0')\n"
     ]
    }
   ],
   "source": [
    "# i = 16*torch.randn(3,224,224)\n",
    "\n",
    "# i = 5*torch.FloatTensor(100).normal_(0, 0.2)\n",
    "i = torch.linspace(-10,10,100)\n",
    "#i = torch.FloatTensor(150).uniform_(-10, 10)\n",
    "\n",
    "i = i.reshape(-1)\n",
    "\n",
    "\n",
    "out1 = dynbit(5,i)\n",
    "out = quantize_adaptivfloat(i)\n",
    "# out1 = bit_flexible(i,length=100)\n",
    "i = torch.sort(i).values\n",
    "out1 = torch.sort(out1).values\n",
    "print(i)\n",
    "print(out1)\n"
   ]
  },
  {
   "cell_type": "code",
   "execution_count": 8,
   "id": "4a7713e9",
   "metadata": {},
   "outputs": [
    {
     "name": "stderr",
     "output_type": "stream",
     "text": [
      "/home/jjc/miniconda3/envs/hamha_quant/lib/python3.8/site-packages/torch/ao/quantization/utils.py:280: UserWarning: must run observer before calling calculate_qparams. Returning default values.\n",
      "  warnings.warn(\n",
      "[W TensorImpl.h:1405] Warning: Named tensors and all their associated APIs are an experimental feature and subject to change. Please do not use them for anything important until they are released as stable. (function operator())\n"
     ]
    },
    {
     "data": {
      "text/plain": [
       "Text(0, 0.5, 'Normalized Frequency')"
      ]
     },
     "execution_count": 8,
     "metadata": {},
     "output_type": "execute_result"
    },
    {
     "data": {
      "image/png": "[encoded data removed]",
      "text/plain": [
       "<Figure size 640x480 with 1 Axes>"
      ]
     },
     "metadata": {},
     "output_type": "display_data"
    }
   ],
   "source": [
    "import numpy as np\n",
    "from torchvision.models.quantization import resnet18,ResNet18_QuantizedWeights,mobilenet_v2, MobileNet_V2_QuantizedWeights,resnet18, resnet50, ResNet18_QuantizedWeights, ResNet50_QuantizedWeights\n",
    "from eb_anal import layer_wise_bit_level, kernel_wise_bit_level\n",
    "import matplotlib.pyplot as plt\n",
    "\n",
    "# For resnet 18\n",
    "# weights = ResNet18_QuantizedWeights.DEFAULT\n",
    "# model = resnet18(weights=weights, quantize=True)\n",
    "\n",
    "# For resnet 50\n",
    "weights = MobileNet_V2_QuantizedWeights.DEFAULT\n",
    "model = mobilenet_v2(weights=weights, quantize=True)\n",
    "model.eval()\n",
    "\n",
    "# Select different layers here\n",
    "# Names can be get in wgt_test_quant.ipynb\n",
    "# resnet18_weight1 = model.layer1[0].conv2.weight().flatten().int_repr().cpu().detach().numpy()\n",
    "# wgt_arr = model.layer1[0].conv2.weight().flatten().int_repr().cpu().detach().numpy()\n",
    "mobilenet_weight1 = model.features[1].conv[0][0].weight().flatten().int_repr().cpu().detach().numpy()\n",
    "\n",
    "# plot\n",
    "plt.hist(mobilenet_weight1, bins=1000, density=True, alpha=1,\n",
    "         histtype='stepfilled',  facecolor = 'black',  linewidth=1)\n",
    "# y = norm.pdf(bins,dymobilenet_v2_feature1_mean,dymobilenet_v2_feature1_sigma)\n",
    "# plt.plot(bins,y,'r--')\n",
    "\n",
    "\n",
    "plt.title(\"8-Bit Resnet18 Quantization\")\n",
    "plt.xlabel('Value')\n",
    "plt.ylabel('Normalized Frequency')"
   ]
  },
  {
   "cell_type": "code",
   "execution_count": 9,
   "id": "d1058144",
   "metadata": {},
   "outputs": [
    {
     "ename": "NameError",
     "evalue": "name 'resnet18_weight1' is not defined",
     "output_type": "error",
     "traceback": [
      "\u001b[0;31m---------------------------------------------------------------------------\u001b[0m",
      "\u001b[0;31mNameError\u001b[0m                                 Traceback (most recent call last)",
      "Cell \u001b[0;32mIn[9], line 1\u001b[0m\n\u001b[0;32m----> 1\u001b[0m \u001b[38;5;28mprint\u001b[39m(\u001b[43mresnet18_weight1\u001b[49m\u001b[38;5;241m.\u001b[39msize)\n\u001b[1;32m      2\u001b[0m \u001b[38;5;28mprint\u001b[39m(resnet18_weight1[\u001b[38;5;241m0\u001b[39m])\n",
      "\u001b[0;31mNameError\u001b[0m: name 'resnet18_weight1' is not defined"
     ]
    }
   ],
   "source": [
    "print(resnet18_weight1.size)\n",
    "print(resnet18_weight1[0])"
   ]
  },
  {
   "cell_type": "code",
   "execution_count": null,
   "id": "fe796545",
   "metadata": {},
   "outputs": [],
   "source": [
    "resnet18_weight1_hamha_eb2_out1 = hamha_eb_value(resnet18_weight1,expect_eb=2)\n",
    "print(resnet18_weight1_hamha_eb2_out1)"
   ]
  },
  {
   "cell_type": "code",
   "execution_count": null,
   "id": "a2082f5c",
   "metadata": {},
   "outputs": [],
   "source": [
    "# plot\n",
    "plt.hist(resnet18_weight1_hamha_eb2_out1, bins=1000, density=True, alpha=1,\n",
    "         histtype='stepfilled',  facecolor = 'black',  linewidth=1)\n",
    "# y = norm.pdf(bins,dymobilenet_v2_feature1_mean,dymobilenet_v2_feature1_sigma)\n",
    "# plt.plot(bins,y,'r--')\n",
    "\n",
    "\n",
    "plt.title(\"8-Bit ResNet18 Quantization\")\n",
    "plt.xlabel('Value')\n",
    "plt.ylabel('Normalized Frequency')"
   ]
  },
  {
   "cell_type": "code",
   "execution_count": null,
   "id": "59b1a0df",
   "metadata": {},
   "outputs": [],
   "source": [
    "\n",
    "\n",
    "fig, subfig = plt.subplots(1,2,figsize=(7,2))\n",
    "subfig[1].hist(resnet18_weight1_hamha_eb2_out1, bins=10000, density=True, alpha=1,\n",
    "          histtype='stepfilled', facecolor = 'navy', edgecolor='navy', linewidth=2)\n",
    "\n",
    "\n",
    "# subfig[1].set_ylim(0,2)\n",
    "# subfig[1].set_xlim(-2,2)\n",
    "# mobilenet_v2_feature1_max = max(resnet18_weight1_hamha_eb2_out1)\n",
    "# print(mobilenet_v2_feature1_max)\n",
    "# mobilenet_v2_feature1_min = min(resnet18_weight1_hamha_eb2_out1)\n",
    "# print(mobilenet_v2_feature1_min)\n",
    "\n",
    "subfig[1].tick_params(axis='both',labelsize=10,width=1,labelcolor=\"black\")\n",
    "\n",
    "\n",
    "\n",
    "\n",
    "subfig[0].hist(resnet18_weight1, bins=1000, density=True, alpha=1,\n",
    "         histtype='step', facecolor = 'navy', edgecolor='navy', linewidth=1)\n",
    "\n",
    "# subfig[0].set_xlim(-2,2)\n",
    "\n",
    "\n",
    "subfig[0].tick_params(axis='both',labelsize=10,width=2,labelcolor=\"black\")\n",
    "\n",
    "plt.savefig('Resnet18_weight_lsb_eb2.svg',dpi=1200,format='svg')"
   ]
  },
  {
   "cell_type": "code",
   "execution_count": null,
   "id": "6402c186",
   "metadata": {},
   "outputs": [],
   "source": [
    "resnet18_weight1_hamha_eb3_out1 = hamha_eb_value(resnet18_weight1,expect_eb=3)\n",
    "\n",
    "fig, subfig = plt.subplots(1,2,figsize=(7,2))\n",
    "subfig[1].hist(resnet18_weight1_hamha_eb3_out1, bins=10000, density=True, alpha=1,\n",
    "          histtype='stepfilled', facecolor = 'navy', edgecolor='navy', linewidth=2)\n",
    "\n",
    "\n",
    "# subfig[1].set_ylim(0,2)\n",
    "# subfig[1].set_xlim(-2,2)\n",
    "# mobilenet_v2_feature1_max = max(resnet18_weight1_hamha_eb2_out1)\n",
    "# print(mobilenet_v2_feature1_max)\n",
    "# mobilenet_v2_feature1_min = min(resnet18_weight1_hamha_eb2_out1)\n",
    "# print(mobilenet_v2_feature1_min)\n",
    "\n",
    "subfig[1].tick_params(axis='both',labelsize=10,width=1,labelcolor=\"black\")\n",
    "\n",
    "\n",
    "\n",
    "\n",
    "subfig[0].hist(resnet18_weight1, bins=1000, density=True, alpha=1,\n",
    "         histtype='step', facecolor = 'navy', edgecolor='navy', linewidth=1)\n",
    "\n",
    "# subfig[0].set_xlim(-2,2)\n",
    "\n",
    "\n",
    "subfig[0].tick_params(axis='both',labelsize=10,width=2,labelcolor=\"black\")\n",
    "\n",
    "plt.savefig('Resnet18_weight_lsb_eb3.svg',dpi=1200,format='svg')"
   ]
  },
  {
   "cell_type": "code",
   "execution_count": null,
   "id": "9a3914a8",
   "metadata": {},
   "outputs": [],
   "source": [
    "mobilenet_weight1_hamha_eb3_out1 = hamha_eb_value(mobilenet_weight1,expect_eb=2)\n",
    "fig, subfig = plt.subplots(1,2,figsize=(7,2))\n",
    "subfig[1].hist(mobilenet_weight1_hamha_eb3_out1, bins=10000, density=True, alpha=1,\n",
    "          histtype='stepfilled', facecolor = 'navy', edgecolor='navy', linewidth=2)\n",
    "\n",
    "\n",
    "# subfig[1].set_ylim(0,2)\n",
    "# subfig[1].set_xlim(-2,2)\n",
    "mobilenet_v2_feature1_max = max(mobilenet_weight1_hamha_eb3_out1)\n",
    "print(mobilenet_v2_feature1_max)\n",
    "mobilenet_v2_feature1_min = min(mobilenet_weight1_hamha_eb3_out1)\n",
    "print(mobilenet_v2_feature1_min)\n",
    "\n",
    "subfig[1].tick_params(axis='both',labelsize=10,width=1,labelcolor=\"black\")\n",
    "\n",
    "\n",
    "\n",
    "\n",
    "subfig[0].hist(mobilenet_weight1, bins=1000, density=True, alpha=1,\n",
    "         histtype='step', facecolor = 'navy', edgecolor='navy', linewidth=1)\n",
    "\n",
    "# subfig[0].set_xlim(-2,2)\n",
    "\n",
    "\n",
    "subfig[0].tick_params(axis='both',labelsize=10,width=2,labelcolor=\"black\")\n",
    "\n",
    "plt.savefig('Mobilenet_v2_weight_lsb_eb2.svg',dpi=1200,format='svg')"
   ]
  },
  {
   "cell_type": "code",
   "execution_count": null,
   "id": "b9790507",
   "metadata": {},
   "outputs": [],
   "source": [
    "print(quantize_csd(75,2))"
   ]
  },
  {
   "cell_type": "code",
   "execution_count": null,
   "id": "fe7d6334",
   "metadata": {},
   "outputs": [],
   "source": [
    "print(hamha_csd_value(mobilenet_weight1, 2))"
   ]
  },
  {
   "cell_type": "code",
   "execution_count": null,
   "id": "eefcf4ac",
   "metadata": {},
   "outputs": [],
   "source": [
    "wgt_arr = model.features[1].conv[0][0].weight().flatten().int_repr().cpu().detach().numpy()\n",
    "mobilenet_weight1_hamha_csd_eb3_out1 = hamha_csd_value(mobilenet_weight1,expect_eb=3)\n",
    "fig, subfig = plt.subplots(1,2,figsize=(7,2))\n",
    "subfig[1].hist(mobilenet_weight1_hamha_csd_eb3_out1, bins=10000, density=True, alpha=1,\n",
    "          histtype='stepfilled', facecolor = 'navy', edgecolor='navy', linewidth=2)\n",
    "\n",
    "\n",
    "# subfig[1].set_ylim(0,2)\n",
    "# subfig[1].set_xlim(-2,2)\n",
    "mobilenet_v2_feature1_max = max(mobilenet_weight1_hamha_csd_eb3_out1)\n",
    "print(mobilenet_v2_feature1_max)\n",
    "mobilenet_v2_feature1_min = min(mobilenet_weight1_hamha_csd_eb3_out1)\n",
    "print(mobilenet_v2_feature1_min)\n",
    "\n",
    "subfig[1].tick_params(axis='both',labelsize=10,width=1,labelcolor=\"black\")\n",
    "\n",
    "\n",
    "\n",
    "\n",
    "subfig[0].hist(mobilenet_weight1, bins=1000, density=True, alpha=1,\n",
    "         histtype='step', facecolor = 'navy', edgecolor='navy', linewidth=1)\n",
    "\n",
    "# subfig[0].set_xlim(-2,2)\n",
    "\n",
    "\n",
    "subfig[0].tick_params(axis='both',labelsize=10,width=2,labelcolor=\"black\")\n",
    "\n",
    "plt.savefig('Mobilenet_v2_weight_csd_eb3.svg',dpi=1200,format='svg')"
   ]
  },
  {
   "cell_type": "code",
   "execution_count": null,
   "id": "a9d1e090",
   "metadata": {},
   "outputs": [],
   "source": [
    "wgt_arr = model.features[1].conv[0][0].weight().flatten().int_repr().cpu().detach().numpy()\n",
    "\n",
    "mobilenet_weight1_hamha_csd_eb2_out1 = hamha_csd_value(mobilenet_weight1,expect_eb=2)\n",
    "fig, subfig = plt.subplots(1,2,figsize=(7,2))\n",
    "subfig[1].hist(mobilenet_weight1_hamha_csd_eb2_out1, bins=10000, density=True, alpha=1,\n",
    "          histtype='stepfilled', facecolor = 'navy', edgecolor='navy', linewidth=2)\n",
    "\n",
    "\n",
    "# subfig[1].set_ylim(0,2)\n",
    "# subfig[1].set_xlim(-2,2)\n",
    "# mobilenet_v2_feature1_max = max(mobilenet_weight1_hamha_eb3_out1)\n",
    "# print(mobilenet_v2_feature1_max)\n",
    "# mobilenet_v2_feature1_min = min(mobilenet_weight1_hamha_eb3_out1)\n",
    "# print(mobilenet_v2_feature1_min)\n",
    "\n",
    "subfig[1].tick_params(axis='both',labelsize=10,width=1,labelcolor=\"black\")\n",
    "\n",
    "wgt_arr = model.features[1].conv[0][0].weight().flatten().int_repr().cpu().detach().numpy()\n",
    "mobilenet_weight1_hamha_eb2_out1 = hamha_eb_value(mobilenet_weight1,expect_eb=2)\n",
    "\n",
    "\n",
    "\n",
    "subfig[0].hist(mobilenet_weight1_hamha_eb2_out1, bins=1000, density=True, alpha=1,\n",
    "         histtype='step', facecolor = 'navy', edgecolor='navy', linewidth=1)\n",
    "\n",
    "# subfig[0].set_xlim(-2,2)\n",
    "\n",
    "\n",
    "subfig[0].tick_params(axis='both',labelsize=10,width=2,labelcolor=\"black\")\n",
    "\n",
    "plt.savefig('Mobilenet_v2_weight_lsb_csd_eb2.svg',dpi=1200,format='svg')"
   ]
  },
  {
   "cell_type": "code",
   "execution_count": null,
   "id": "e4103e08",
   "metadata": {},
   "outputs": [],
   "source": [
    "wgt_arr = model.layer1[0].conv2.weight().flatten().int_repr().cpu().detach().numpy()\n",
    "resnet18_weight1_hamha_csd_eb3_out1 = hamha_csd_value(resnet18_weight1,expect_eb=3)\n",
    "fig, subfig = plt.subplots(1,2,figsize=(7,2))\n",
    "subfig[1].hist(resnet18_weight1_hamha_csd_eb3_out1, bins=10000, density=True, alpha=1,\n",
    "          histtype='stepfilled', facecolor = 'navy', edgecolor='navy', linewidth=2)\n",
    "\n",
    "\n",
    "# subfig[1].set_ylim(0,2)\n",
    "\n",
    "\n",
    "subfig[1].tick_params(axis='both',labelsize=10,width=1,labelcolor=\"black\")\n",
    "\n",
    "\n",
    "\n",
    "\n",
    "subfig[0].hist(resnet18_weight1, bins=1000, density=True, alpha=1,\n",
    "         histtype='step', facecolor = 'navy', edgecolor='navy', linewidth=1)\n",
    "\n",
    "# subfig[0].set_xlim(-2,2)\n",
    "\n",
    "\n",
    "subfig[0].tick_params(axis='both',labelsize=10,width=2,labelcolor=\"black\")\n",
    "\n",
    "plt.savefig('resnet18_weight_csd_eb3.svg',dpi=1200,format='svg')"
   ]
  },
  {
   "cell_type": "code",
   "execution_count": null,
   "id": "596070c3",
   "metadata": {},
   "outputs": [],
   "source": []
  },
  {
   "cell_type": "code",
   "execution_count": null,
   "id": "344b6008",
   "metadata": {},
   "outputs": [],
   "source": [
    "wgt_arr = model.features[1].conv[0][0].weight().flatten().int_repr().cpu().detach().numpy()\n",
    "mobilenet_weight1_hamha_csd_eb3_out1 = hamha_csd_value(mobilenet_weight1,expect_eb=2)\n",
    "fig, subfig = plt.subplots(1,2,figsize=(7,2))\n",
    "subfig[1].hist(mobilenet_weight1_hamha_csd_eb3_out1, bins=10000, density=True, alpha=1,\n",
    "          histtype='stepfilled', facecolor = 'navy', edgecolor='navy', linewidth=2)\n",
    "\n",
    "\n",
    "# subfig[1].set_ylim(0,2)\n",
    "# subfig[1].set_xlim(-2,2)\n",
    "mobilenet_v2_feature1_max = max(mobilenet_weight1_hamha_csd_eb3_out1)\n",
    "print(mobilenet_v2_feature1_max)\n",
    "mobilenet_v2_feature1_min = min(mobilenet_weight1_hamha_csd_eb3_out1)\n",
    "print(mobilenet_v2_feature1_min)\n",
    "\n",
    "subfig[1].tick_params(axis='both',labelsize=10,width=1,labelcolor=\"black\")\n",
    "\n",
    "\n",
    "\n",
    "\n",
    "subfig[0].hist(mobilenet_weight1, bins=1000, density=True, alpha=1,\n",
    "         histtype='step', facecolor = 'navy', edgecolor='navy', linewidth=1)\n",
    "\n",
    "# subfig[0].set_xlim(-2,2)\n",
    "\n",
    "\n",
    "subfig[0].tick_params(axis='both',labelsize=10,width=2,labelcolor=\"black\")\n",
    "\n",
    "plt.savefig('Mobilenet_v2_weight_csd_eb2.svg',dpi=1200,format='svg')"
   ]
  },
  {
   "cell_type": "code",
   "execution_count": 10,
   "id": "933908a6",
   "metadata": {},
   "outputs": [],
   "source": [
    "from bisect import bisect_left\n",
    "\n",
    "\n",
    "def quantize_csd(input_num, eb=2):\n",
    "    twoslist = [1, 2, 4, 8, 16, 32, 64, 128]\n",
    "    iter_num = input_num\n",
    "    quant_num = 0\n",
    "    for index in range(eb):\n",
    "        base = findclosest(twoslist, iter_num)\n",
    "        if index == 0:\n",
    "            quant_num = base\n",
    "            # print(\"the 1st quant num is \", quant_num)\n",
    "            if base > iter_num:\n",
    "                sign_flag = 0  # 0-minus\n",
    "            else:\n",
    "                sign_flag = 1  # 1-plus\n",
    "            # print(\"sign flag =\", sign_flag)\n",
    "        else:\n",
    "            if sign_flag == 0:\n",
    "                quant_num = quant_num - base\n",
    "            else:\n",
    "                quant_num = quant_num + base\n",
    "            # print(\"the quant num is \", quant_num)\n",
    "            if base > iter_num:\n",
    "                if old_sign_flag == 0:\n",
    "                    sign_flag = 1\n",
    "                else:\n",
    "                    sign_flag = 0\n",
    "            else:\n",
    "                if old_sign_flag == 0:\n",
    "                    sign_flag = 0\n",
    "                else:\n",
    "                    sign_flag = 1\n",
    "            # print(\"sign flag =\", sign_flag)\n",
    "        old_sign_flag = sign_flag\n",
    "        iter_num = abs(base - iter_num)\n",
    "        # print(\"new iternum =\", iter_num)\n",
    "    return quant_num\n",
    "\n",
    "\n",
    "def findclosest(myList, input_num):\n",
    "    if (input_num > myList[-1] or input_num < myList[0]):\n",
    "        return False\n",
    "    pos = bisect_left(myList, input_num)\n",
    "    if pos == 0:\n",
    "        return myList[0]\n",
    "    if pos == len(myList):\n",
    "        return myList[-1]\n",
    "    before = myList[pos - 1]\n",
    "    after = myList[pos]\n",
    "    if after - input_num < input_num - before:\n",
    "        return after\n",
    "    else:\n",
    "        return before\n",
    "\n",
    "# def quantize_csd(input_num, eb=2):\n",
    "#     twoslist = [1, 2, 4, 8, 16, 32, 64, 128]\n",
    "#     iter_num = input_num\n",
    "#     quant_num = 0\n",
    "#     for index in range(eb):\n",
    "#         error_min_abs = 256\n",
    "#         for twos in twoslist:\n",
    "#             error = abs(twos - iter_num)\n",
    "#             if error_min_abs == 256 or error_min_abs > error:\n",
    "#                 error_min_abs = error\n",
    "#                 base = twos\n",
    "# #                 print(\"loop base = \", base)\n",
    "#             else:\n",
    "#                 if index == 0:\n",
    "#                     quant_num = base\n",
    "# #                     print(\"the 1st quant num is \", quant_num)\n",
    "#                 else:\n",
    "#                     if sign_flag == 0:\n",
    "#                         quant_num = quant_num - base\n",
    "#                     else:\n",
    "#                         quant_num = quant_num + base\n",
    "# #                     print(\"the 2nd quant num is \", quant_num)\n",
    "#                 break\n",
    "#         iter_num = abs(base - iter_num)\n",
    "# #         print(\"new iternum =\", iter_num)\n",
    "#         old_base = base\n",
    "#         if base > iter_num:\n",
    "#             sign_flag = 0  # 0-minus\n",
    "#         else:\n",
    "#             sign_flag = 1  # 1-plus\n",
    "#     return quant_num\n",
    "\n",
    "\n",
    "def hamha_csd_value_b(self, q_type=\"int\",expect_eb=3):\n",
    "\n",
    "\n",
    "           \n",
    "        bit_width = 8\n",
    "        B = bit_width\n",
    "    \n",
    "        B = bit_width - 1\n",
    "\n",
    "        values = []\n",
    "        ori=[]\n",
    "        ori.append(0.)\n",
    "        values.append(0.)\n",
    "        for i in range(1, 2 ** B):\n",
    "            bin_str = np.binary_repr(i)\n",
    "            bit_num = bit_essential(bin_str)\n",
    "#             ori.append(i) \n",
    "            ori.append(i) \n",
    "\n",
    "            for s in range(expect_eb):\n",
    "                        quant_value = i\n",
    "                        # print(\"orignal value\",quant_value)\n",
    "                        quant_bit_num = quantize_csd(quant_value,expect_eb)\n",
    "                        # print(\"csd quant\",quant_bit_num)\n",
    "                        i = quant_bit_num\n",
    "            \n",
    "                        #   print(\"binary\",i)\n",
    "                        #   print(\"new EB\",new_bit_num)\n",
    "                         \n",
    "#             values.append(i)\n",
    "    \n",
    "            values.append(i)\n",
    "\n",
    "\n",
    "#                 values.append(-2 ** B)\n",
    "        # values = torch.sort(values)\n",
    "        # print(\"int csd values :\", values)\n",
    "\n",
    "        return values,ori\n",
    "\n"
   ]
  },
  {
   "cell_type": "code",
   "execution_count": 11,
   "id": "4f2e99c4",
   "metadata": {},
   "outputs": [],
   "source": [
    "\n",
    "def int_value(self, q_type=\"int\",expect_eb=7):\n",
    "        bit_width = 8\n",
    "        B = bit_width\n",
    "     \n",
    "        B = bit_width - 1\n",
    "\n",
    "        values = []\n",
    "        values.append(0.)\n",
    "        ori=[]\n",
    "        ori.append(0.)\n",
    "        for i in range(1, 2 ** B):\n",
    "            bin_str = np.binary_repr(i)\n",
    "            bit_num = bit_essential(bin_str)\n",
    "            # print(\"EB\",bit_num)\n",
    "            # print(\"binary\",bin_str)\n",
    "            # expect_eb = int(self.eb)\n",
    "            ori.append(i) \n",
    "            \n",
    "            for s in range(expect_eb):\n",
    "                        quant_value = i\n",
    "                        # print(\"orignal value\",quant_value)\n",
    "                        bin_str = np.binary_repr(quant_value)\n",
    "                        # print(\"binary\",bin_str)\n",
    "                        bit_num = bit_essential(bin_str)\n",
    "                        # print(\"EB\",bit_num)\n",
    "                        quant_bit = lsb_quant_0(i,bin_str,bit_num,expect_eb)\n",
    "                        # print(\"quant bit\", quant_bit)\n",
    "                        quant_bit_num = bit_essential(quant_bit)\n",
    "                        # print(\"Quant EB\",quant_bit_num)\n",
    "                        bin2dec = Bin2Dec()\n",
    "                        a = bin2dec.bin2dec_auto(quant_bit)\n",
    "                        i = a \n",
    "            \n",
    "            \n",
    "            bin_str = np.binary_repr(i)\n",
    "            bit_num = bit_essential(bin_str)\n",
    "            for m in range(7-expect_eb):\n",
    "                        quant_value = i\n",
    "                        # print(\"orignal value\",quant_value)\n",
    "                        bin_str = np.binary_repr(quant_value)\n",
    "                        # print(\"binary\",bin_str)\n",
    "                        bit_num = bit_essential(bin_str)\n",
    "                        # print(\"EB\",bit_num)\n",
    "                        quant_bit = lsb_quant(bin_str,bit_num,expect_eb)\n",
    "                        # print(\"quant bit\", quant_bit)\n",
    "                        quant_bit_num = bit_essential(quant_bit)\n",
    "                        # print(\"Quant EB\",quant_bit_num)\n",
    "                        bin2dec = Bin2Dec()\n",
    "                        a = bin2dec.bin2dec_auto(quant_bit)\n",
    "                        i = a \n",
    "                        \n",
    "            bin_str = np.binary_repr(i)\n",
    "            bit_num = bit_essential(bin_str)            \n",
    "\n",
    "                          \n",
    "            values.append(i)\n",
    "      \n",
    "\n",
    "\n",
    "\n",
    "        return values,ori"
   ]
  },
  {
   "cell_type": "code",
   "execution_count": 39,
   "id": "7bdce679",
   "metadata": {},
   "outputs": [
    {
     "name": "stderr",
     "output_type": "stream",
     "text": [
      "/tmp/ipykernel_3396342/870466641.py:36: RuntimeWarning: overflow encountered in byte_scalars\n",
      "  iter_num = abs(base - iter_num)\n"
     ]
    },
    {
     "data": {
      "image/png": "[encoded data removed]",
      "text/plain": [
       "<Figure size 800x600 with 4 Axes>"
      ]
     },
     "metadata": {},
     "output_type": "display_data"
    }
   ],
   "source": [
    "wgt_arr = model.features[1].conv[0][0].weight().flatten().int_repr().cpu().detach().numpy()\n",
    "\n",
    "mobilenet_weight1_hamha_csd_eb2_out1 = hamha_csd_value(mobilenet_weight1,expect_eb=2)\n",
    "fig, subfig = plt.subplots(2,2,figsize=(8,6))\n",
    "subfig[0][1].hist(mobilenet_weight1_hamha_csd_eb2_out1, bins=10000, density=True, alpha=1,\n",
    "          histtype='stepfilled', facecolor = 'navy', edgecolor='navy', linewidth=2)\n",
    "subfig[0][1].grid()\n",
    "\n",
    "# subfig[1].set_ylim(0,2)\n",
    "# subfig[1].set_xlim(-2,2)\n",
    "# mobilenet_v2_feature1_max = max(mobilenet_weight1_hamha_eb3_out1)\n",
    "# print(mobilenet_v2_feature1_max)\n",
    "# mobilenet_v2_feature1_min = min(mobilenet_weight1_hamha_eb3_out1)\n",
    "# print(mobilenet_v2_feature1_min)\n",
    "\n",
    "subfig[0][1].tick_params(axis='both',labelsize=10,width=1,labelcolor=\"black\")\n",
    "subfig[0][1].set_xlim(-50,50)\n",
    "subfig[0][0].set_ylabel(\"Normalized Frequency (%)\", weight='bold')\n",
    "subfig[0][1].set_ylabel(\"Normalized Frequency (%)\", weight='bold')\n",
    "subfig[0][0].set_xlabel(\"(a)\", weight='bold')\n",
    "subfig[0][1].set_xlabel(\"(b)\", weight='bold')\n",
    "wgt_arr = model.features[1].conv[0][0].weight().flatten().int_repr().cpu().detach().numpy()\n",
    "mobilenet_weight1_hamha_eb2_out1 = hamha_eb_value(mobilenet_weight1,expect_eb=2)\n",
    "\n",
    "\n",
    "\n",
    "subfig[0][0].hist(mobilenet_weight1_hamha_eb2_out1, bins=10000, density=True, alpha=1,\n",
    "         histtype='stepfilled', facecolor = 'navy', edgecolor='navy', linewidth=2)\n",
    "\n",
    "# subfig[0].set_xlim(-2,2)\n",
    "subfig[0][0].grid()\n",
    "\n",
    "subfig[0][0].tick_params(axis='both',labelsize=10,width=1,labelcolor=\"black\")\n",
    "subfig[0][0].set_xlim(-50,50)\n",
    "\n",
    "i = torch.IntTensor(1, 10)\n",
    "i = i.reshape(-1)\n",
    "lsb_out1,lsb_out2= int_value(i,expect_eb=2)\n",
    "csd_out1,csd_out2 = hamha_csd_value_b(i,expect_eb=2)\n",
    "subfig[1][0].step(lsb_out1,lsb_out2,c='navy',linewidth=1.5)\n",
    "# subfig[0].plot(lsb_out2,lsb_out2,c='red',linewidth=0.7)\n",
    "\n",
    "subfig[1][0].set_ylim(0,50)\n",
    "subfig[1][0].set_xlim(0,50)\n",
    "subfig[1][0].grid()\n",
    "\n",
    "subfig[1][0].tick_params(axis='both',labelsize=10,width=1,labelcolor=\"black\")\n",
    "\n",
    "subfig[1][0].set_ylabel(\"Standard EB2 Quantized Value\", weight='bold')\n",
    "subfig[1][1].set_ylabel(\"RSD EB2 Quantized Value\", weight='bold')\n",
    "subfig[1][0].set_xlabel(\"(c)\", weight='bold')\n",
    "subfig[1][1].set_xlabel(\"(d)\", weight='bold')\n",
    "\n",
    "subfig[1][1].step(csd_out1,csd_out2,c='navy',linewidth=1.5)\n",
    "# subfig[1].plot(csd_out1,csd_out2,c='red',linewidth=0.7)\n",
    "subfig[1][1].set_ylim(0,50)\n",
    "subfig[1][1].set_xlim(0,50)\n",
    "subfig[1][1].grid()\n",
    "\n",
    "\n",
    "subfig[1][1].tick_params(axis='both',labelsize=10,width=1,labelcolor=\"black\")\n",
    "plt.savefig('compara_analysis_lsb_csd_eb2.svg',dpi=1200,format='svg')"
   ]
  },
  {
   "cell_type": "code",
   "execution_count": 28,
   "id": "95d7be0a",
   "metadata": {},
   "outputs": [
    {
     "name": "stderr",
     "output_type": "stream",
     "text": [
      "/tmp/ipykernel_3234366/870466641.py:36: RuntimeWarning: overflow encountered in byte_scalars\n",
      "  iter_num = abs(base - iter_num)\n"
     ]
    },
    {
     "data": {
      "image/png": "[encoded data removed]",
      "text/plain": [
       "<Figure size 700x200 with 2 Axes>"
      ]
     },
     "metadata": {},
     "output_type": "display_data"
    }
   ],
   "source": [
    "wgt_arr = model.features[1].conv[0][0].weight().flatten().int_repr().cpu().detach().numpy()\n",
    "\n",
    "mobilenet_weight1_hamha_csd_eb2_out1 = hamha_csd_value(mobilenet_weight1,expect_eb=2)\n",
    "fig, subfig = plt.subplots(1,2,figsize=(7,2))\n",
    "subfig[1].hist(mobilenet_weight1_hamha_csd_eb2_out1, bins=10000, density=True, alpha=1,\n",
    "          histtype='stepfilled', facecolor = 'navy', edgecolor='navy', linewidth=2)\n",
    "subfig[1].grid()\n",
    "\n",
    "# subfig[1].set_ylim(0,2)\n",
    "# subfig[1].set_xlim(-2,2)\n",
    "# mobilenet_v2_feature1_max = max(mobilenet_weight1_hamha_eb3_out1)\n",
    "# print(mobilenet_v2_feature1_max)\n",
    "# mobilenet_v2_feature1_min = min(mobilenet_weight1_hamha_eb3_out1)\n",
    "# print(mobilenet_v2_feature1_min)\n",
    "\n",
    "subfig[1].tick_params(axis='both',labelsize=10,width=1,labelcolor=\"black\")\n",
    "\n",
    "wgt_arr = model.features[1].conv[0][0].weight().flatten().int_repr().cpu().detach().numpy()\n",
    "mobilenet_weight1_hamha_eb2_out1 = hamha_eb_value(mobilenet_weight1,expect_eb=2)\n",
    "\n",
    "\n",
    "\n",
    "subfig[0].hist(mobilenet_weight1_hamha_eb2_out1, bins=1000, density=True, alpha=1,\n",
    "         histtype='step', facecolor = 'navy', edgecolor='navy', linewidth=1)\n",
    "\n",
    "# subfig[0].set_xlim(-2,2)\n",
    "subfig[0].grid()\n",
    "\n",
    "subfig[0].tick_params(axis='both',labelsize=10,width=2,labelcolor=\"black\")\n",
    "\n",
    "plt.savefig('Mobilenet_v2_weight_lsb_csd_eb2.svg',dpi=1200,format='svg')"
   ]
  },
  {
   "cell_type": "code",
   "execution_count": 29,
   "id": "80859b74",
   "metadata": {},
   "outputs": [
    {
     "data": {
      "image/png": "[encoded data removed]",
      "text/plain": [
       "<Figure size 700x200 with 2 Axes>"
      ]
     },
     "metadata": {},
     "output_type": "display_data"
    }
   ],
   "source": [
    "\n",
    "\n",
    "i = torch.IntTensor(1, 10)\n",
    "\n",
    "i = i.reshape(-1)\n",
    "\n",
    "\n",
    "lsb_out1,lsb_out2= int_value(i,expect_eb=2)\n",
    "csd_out1,csd_out2 = hamha_csd_value_b(i,expect_eb=2)\n",
    "# csd_out1 = torch.Tensor(csd_out1)\n",
    "# csd_out1 = torch.sort(csd_out1)\n",
    "# csd_out2 = torch.Tensor(csd_out2)\n",
    "# csd_out2 = torch.sort(csd_out2)\n",
    "# incsd_out1 = torch.Tensor(csd_out1)1 = in1.to(\"cpu\")\n",
    "\n",
    "# csd_out1 = csd_out1.to(\"cpu\")\n",
    "# csd_out2 = csd_out2.to(\"cpu\")\n",
    "# print(out2)\n",
    "# plt.step(out1,out2,c='navy',linewidth=2)\n",
    "# plt.tick_params(axis='both',labelsize=17,width=2,labelcolor=\"black\")\n",
    "\n",
    "# plt.savefig('LSB_hamha_Quant_eb2.svg',dpi=1200,format='svg')\n",
    "# plt.show()\n",
    "\n",
    "\n",
    "fig, subfig = plt.subplots(1,2,figsize=(7,2))\n",
    "subfig[0].step(lsb_out1,lsb_out2,c='navy',linewidth=1.5)\n",
    "# subfig[0].plot(lsb_out2,lsb_out2,c='red',linewidth=0.7)\n",
    "\n",
    "subfig[0].set_ylim(0,50)\n",
    "subfig[0].set_xlim(0,50)\n",
    "subfig[0].grid()\n",
    "\n",
    "subfig[0].tick_params(axis='both',labelsize=10,width=1,labelcolor=\"black\")\n",
    "\n",
    "\n",
    "\n",
    "\n",
    "subfig[1].step(csd_out1,csd_out2,c='navy',linewidth=1.5)\n",
    "# subfig[1].plot(csd_out1,csd_out2,c='red',linewidth=0.7)\n",
    "subfig[1].set_ylim(0,50)\n",
    "subfig[1].set_xlim(0,50)\n",
    "subfig[1].grid()\n",
    "\n",
    "\n",
    "\n",
    "subfig[1].tick_params(axis='both',labelsize=10,width=2,labelcolor=\"black\")\n",
    "\n",
    "\n",
    "\n",
    "plt.savefig('lsb_csd_hamha_eb2.svg',dpi=1200,format='svg')"
   ]
  },
  {
   "cell_type": "code",
   "execution_count": null,
   "id": "cf1887cc",
   "metadata": {},
   "outputs": [],
   "source": [
    "# wgt_arr = model.layer1[0].conv2.weight().flatten().int_repr().cpu().detach().numpy()\n",
    "# i = torch.randint(3, 5, (3,))\n",
    "i = torch.IntTensor(1, 10)\n",
    "\n",
    "i = i.reshape(-1)\n",
    "\n",
    "\n",
    "out1,out2 = hamha_csd_value(i,expect_eb=2)\n",
    "in1 = in1.to(\"cpu\")\n",
    "\n",
    "# out1 = out1.to(\"cpu\")\n",
    "print(out1)\n",
    "print(out2)\n",
    "\n",
    "# # plt.ylim(0,1)\n",
    "# # plt.xlim(0,1)\n",
    "\n",
    "plt.step(out1,out2,c='navy',linewidth=2)\n",
    "plt.tick_params(axis='both',labelsize=17,width=2,labelcolor=\"black\")\n",
    "\n",
    "plt.savefig('CSD_hamha_Quant_eb2.svg',dpi=1200,format='svg')\n",
    "plt.show()"
   ]
  },
  {
   "cell_type": "code",
   "execution_count": null,
   "id": "2bed627d",
   "metadata": {},
   "outputs": [],
   "source": [
    "out1 = dynbit(5,i)\n",
    "i = i.to(\"cpu\")\n",
    "\n",
    "out1 = out1.to(\"cpu\")\n",
    "# print(i)\n",
    "# print(out1)\n",
    "# plt.ylim(0,1)\n",
    "# plt.xlim(0,1)\n",
    "\n",
    "plt.step(i,out1,c='navy',linewidth=2)\n",
    "plt.tick_params(axis='both',labelsize=17,width=2,labelcolor=\"black\")\n",
    "\n",
    "plt.savefig('4_bit_Dybit_Quant.svg',dpi=1200,format='svg')\n",
    "plt.show()"
   ]
  },
  {
   "cell_type": "code",
   "execution_count": null,
   "id": "6eebf033",
   "metadata": {},
   "outputs": [],
   "source": []
  },
  {
   "cell_type": "code",
   "execution_count": null,
   "id": "af506eed",
   "metadata": {},
   "outputs": [],
   "source": []
  },
  {
   "cell_type": "code",
   "execution_count": null,
   "id": "5bfdd4aa",
   "metadata": {},
   "outputs": [],
   "source": [
    "\n",
    "#i = torch.FloatTensor(150).uniform_(-10, 10)\n",
    "print(i)\n",
    "out = quantize_adaptivfloat(i,n_bits=5)\n",
    "i = i.reshape(-1)\n",
    "i = i.to(\"cpu\")\n",
    "out = out.to(\"cpu\")\n",
    "# print(i)\n",
    "print(out)\n",
    "# plt.ylim(0,1)\n",
    "# plt.xlim(0,1)\n",
    "\n",
    "plt.step(i,out,c='navy',linewidth=2)\n",
    "plt.tick_params(axis='both',labelsize=17,width=2,labelcolor=\"black\")\n",
    "\n",
    "\n",
    "plt.show()"
   ]
  },
  {
   "cell_type": "code",
   "execution_count": 17,
   "id": "16dc8d85",
   "metadata": {},
   "outputs": [
    {
     "data": {
      "text/plain": [
       "Text(0.5, 1.0, 'The distribution of random float ')"
      ]
     },
     "execution_count": 17,
     "metadata": {},
     "output_type": "execute_result"
    },
    {
     "data": {
      "image/png": "[encoded data removed]",
      "text/plain": [
       "<Figure size 640x480 with 1 Axes>"
      ]
     },
     "metadata": {},
     "output_type": "display_data"
    }
   ],
   "source": [
    "plt.hist(i, bins=100, density=True, alpha=1,\n",
    "          histtype='stepfilled', facecolor = 'steelblue', edgecolor='ghostwhite', linewidth=0.5)\n",
    "plt.title(\"The distribution of random float \")"
   ]
  },
  {
   "cell_type": "code",
   "execution_count": 11,
   "id": "20b3c3bd",
   "metadata": {},
   "outputs": [
    {
     "name": "stdout",
     "output_type": "stream",
     "text": [
      "After shape : torch.Size([150])\n"
     ]
    }
   ],
   "source": [
    "# dybit_i = torch.from_numpy(i).float().to(\"cuda\")\n",
    "dybit_i = dynbit(8,i)"
   ]
  },
  {
   "cell_type": "code",
   "execution_count": 12,
   "id": "dc8dc14a",
   "metadata": {},
   "outputs": [
    {
     "data": {
      "text/plain": [
       "Text(0, 0.5, 'Normalized Frequency')"
      ]
     },
     "execution_count": 12,
     "metadata": {},
     "output_type": "execute_result"
    },
    {
     "data": {
      "image/png": "[encoded data removed]",
      "text/plain": [
       "<Figure size 640x480 with 1 Axes>"
      ]
     },
     "metadata": {},
     "output_type": "display_data"
    }
   ],
   "source": [
    "dybit_i = dybit_i.to(\"cpu\")\n",
    "n, bins, patches = plt.hist(dybit_i, bins=1000, density=True, alpha=1,\n",
    "         histtype='stepfilled',  facecolor = 'black',  linewidth=0.5)\n",
    "# y = norm.pdf(bins,dymobilenet_v2_feature1_mean,dymobilenet_v2_feature1_sigma)\n",
    "# plt.plot(bins,y,'r--')\n",
    "\n",
    "\n",
    "plt.title(\"8-Bit DyBit Quantization\")\n",
    "plt.xlabel('Value')\n",
    "plt.ylabel('Normalized Frequency')"
   ]
  },
  {
   "cell_type": "code",
   "execution_count": 13,
   "id": "6aa4a3fc",
   "metadata": {},
   "outputs": [
    {
     "data": {
      "text/plain": [
       "Text(0.5, 1.0, 'The distribution of bit flexible type')"
      ]
     },
     "execution_count": 13,
     "metadata": {},
     "output_type": "execute_result"
    },
    {
     "data": {
      "image/png": "[encoded data removed]",
      "text/plain": [
       "<Figure size 640x480 with 1 Axes>"
      ]
     },
     "metadata": {},
     "output_type": "display_data"
    }
   ],
   "source": [
    "plt.hist(out1, bins=1000, density=True, alpha=0.5,\n",
    "         histtype='stepfilled', color='blue',\n",
    "         edgecolor='none');\n",
    "plt.title(\"The distribution of bit flexible type\")"
   ]
  },
  {
   "cell_type": "code",
   "execution_count": 14,
   "id": "a7d8ae20",
   "metadata": {},
   "outputs": [
    {
     "data": {
      "text/plain": [
       "Text(0.5, 1.0, 'The difference between float and bit flexible type')"
      ]
     },
     "execution_count": 14,
     "metadata": {},
     "output_type": "execute_result"
    },
    {
     "data": {
      "image/png": "[encoded data removed]",
      "text/plain": [
       "<Figure size 640x480 with 1 Axes>"
      ]
     },
     "metadata": {},
     "output_type": "display_data"
    }
   ],
   "source": [
    "diff = out1 - i\n",
    "plt.hist(diff, bins=1000, density=True, alpha=0.5,\n",
    "         histtype='stepfilled', color='steelblue',\n",
    "         edgecolor='none');\n",
    "plt.title(\"The difference between float and bit flexible type\")"
   ]
  },
  {
   "cell_type": "code",
   "execution_count": 8,
   "id": "52eb223f",
   "metadata": {},
   "outputs": [],
   "source": [
    "#Mobilenet_V2\n",
    "mobilenet_v2_feature1=np.load('/home/thomas/Unified_Quantization/ant_quantization/ImageNet/log/mobilnetv2_layer1.npy')\n",
    "mobilenet_v2_feature10=np.load('/home/thomas/Unified_Quantization/ant_quantization/ImageNet/log/mobilnetv2_layer10.npy')\n",
    "mobilenet_v2_feature18=np.load('/home/thomas/Unified_Quantization/ant_quantization/ImageNet/log/mobilnetv2_layer18.npy')\n",
    "\n",
    "#ResNet18\n",
    "resnet18_actlayer1=np.load('/home/thomas/Unified_Quantization/ant_quantization/ImageNet/log/resnet18_layer1.npy')\n",
    "\n",
    "#VIT-BASE\n",
    "vit_base16_enlayer1=np.load('/home/thomas/Unified_Quantization/ant_quantization/ImageNet/log/vit_Base16_layer1.npy')\n",
    "vit_base16_enlayer1 = vit_base16_enlayer1.reshape(-1)\n",
    "vit_base16_enlayer6_ln=np.load('/home/thomas/Unified_Quantization/ant_quantization/ImageNet/log/vit_Base_lnlayer6.npy')\n",
    "\n",
    "#VIT-LARGE\n",
    "\n",
    "#VIT-BASE\n",
    "vit_large16_enlayer6=np.load('/home/thomas/Unified_Quantization/ant_quantization/ImageNet/log/ViT-Large16_layer6.npy')"
   ]
  },
  {
   "cell_type": "code",
   "execution_count": 9,
   "id": "7f0a8e8e",
   "metadata": {},
   "outputs": [],
   "source": [
    "import matplotlib.mlab as mlab\n",
    "from scipy.stats import norm"
   ]
  },
  {
   "cell_type": "code",
   "execution_count": 10,
   "id": "0f0fff52",
   "metadata": {},
   "outputs": [
    {
     "name": "stdout",
     "output_type": "stream",
     "text": [
      "[-0.09938336 -0.13372777 -0.09737094 ...  0.00226529  0.27073035\n",
      " -0.09505049]\n"
     ]
    }
   ],
   "source": [
    "print(mobilenet_v2_feature10)"
   ]
  },
  {
   "cell_type": "code",
   "execution_count": 11,
   "id": "3b23b92e",
   "metadata": {},
   "outputs": [
    {
     "name": "stdout",
     "output_type": "stream",
     "text": [
      "17.293652\n",
      "-19.878813\n"
     ]
    }
   ],
   "source": [
    "resnet18_actlayer1_max = max(resnet18_actlayer1)\n",
    "print(resnet18_actlayer1_max)\n",
    "resnet18_actlayer1_min = min(resnet18_actlayer1)\n",
    "print(resnet18_actlayer1_min)"
   ]
  },
  {
   "cell_type": "code",
   "execution_count": 12,
   "id": "b5cbf373",
   "metadata": {},
   "outputs": [
    {
     "name": "stdout",
     "output_type": "stream",
     "text": [
      "0.8024243\n",
      "-0.7117829\n"
     ]
    }
   ],
   "source": [
    "mobilenet_v2_feature18_max = max(mobilenet_v2_feature18)\n",
    "print(mobilenet_v2_feature18_max)\n",
    "mobilenet_v2_feature18_min = min(mobilenet_v2_feature18)\n",
    "print(mobilenet_v2_feature18_min)"
   ]
  },
  {
   "cell_type": "code",
   "execution_count": 17,
   "id": "f0d02ddb",
   "metadata": {},
   "outputs": [
    {
     "name": "stdout",
     "output_type": "stream",
     "text": [
      "17.293652\n",
      "-19.878813\n",
      "(12845056,)\n"
     ]
    },
    {
     "data": {
      "image/png": "[encoded data removed]",
      "text/plain": [
       "<Figure size 640x480 with 1 Axes>"
      ]
     },
     "metadata": {},
     "output_type": "display_data"
    }
   ],
   "source": [
    "mobilenet_v2_feature10_mean = np.mean(mobilenet_v2_feature10)\n",
    "mobilenet_v2_feature10_sigma = np.std(mobilenet_v2_feature10)\n",
    "# n, bins, patches = plt.hist(mobilenet_v2_feature10, range=(-2,2), bins=1000, density=True, alpha=0.5,\n",
    "#          histtype='stepfilled', color='blue',\n",
    "#          edgecolor='none',label='mobilenet_v2')\n",
    "# plt.hist(mobilenet_v2_feature10, range=(-2,2), bins=1000, density=True, alpha=0.7,\n",
    "#          histtype='stepfilled', color='blue',\n",
    "#          edgecolor='none',label='mobilenet_v2');\n",
    "\n",
    "# mobilenet_v2_feature18_mean = np.mean(mobilenet_v2_feature18)\n",
    "# mobilenet_v2_feature18_sigma = np.std(mobilenet_v2_feature18)\n",
    "# n, bins, patches = plt.hist(mobilenet_v2_feature18, range=(-2,2), bins=1000, density=True, alpha=0.5,\n",
    "#          histtype='stepfilled', color='blue',\n",
    "#          edgecolor='none',label='mobilenet_v2')\n",
    "# plt.hist(mobilenet_v2_feature18, range=(-2,2), bins=1000, density=True, alpha=0.5,\n",
    "#          histtype='stepfilled', color='yellow',\n",
    "#          edgecolor='none');\n",
    "\n",
    "resnet18_actlayer1_mean = np.mean(resnet18_actlayer1)\n",
    "resnet18_actlayer1_sigma = np.std(resnet18_actlayer1)\n",
    "n, bins, patches = plt.hist(resnet18_actlayer1,  bins=10000, density=True, alpha=1,\n",
    "          histtype='stepfilled', facecolor = 'navy', edgecolor='ghostwhite', linewidth=2)\n",
    "# plt.hist(resnet18_actlayer1, bins=1000, density=True, alpha=0.5,\n",
    "#          histtype='stepfilled', color='yellow',\n",
    "#          edgecolor='none');\n",
    "# plt.hist(mobilenet_v2_feature1, range=(-2,2), bins=1000, density=True, alpha=0.5,\n",
    "#          histtype='stepfilled', color='gold',\n",
    "#          edgecolor='none');\n",
    "# plt.hist(resnet18_actlayer1, bins=1000,range=(-5,5),  density=True, alpha=0.5,\n",
    "#          histtype='stepfilled', color='black',\n",
    "#          edgecolor='none');\n",
    "# plt.hist([resnet18_layer1,mobilenet_v2_feature10],bins=1000,range=(-5,5),  density=True, alpha=0.5,\n",
    "#          histtype='stepfilled', \n",
    "#          edgecolor='none');\n",
    "# plt.hist(resnet18_layer1, bins=1000, density=True, alpha=0.5,\n",
    "#          histtype='stepfilled', color='yellow',\n",
    "#          edgecolor='none');\n",
    "# y = norm.pdf(bins,resnet18_actlayer1_mean,resnet18_actlayer1_sigma)\n",
    "# plt.plot(bins,y,'r--')\n",
    "# label=['MobileNet_V2 Feature10','MobileNet_V2 Feature18','MobileNet_V2 Feature1','ResNet']\n",
    "# plt.legend(label)\n",
    "# plt.title(\"CNN Activation Tensor Distribution\")\n",
    "# plt.xlabel('Value')\n",
    "# plt.ylabel('Normalized Frequency')\n",
    "\n",
    "plt.xlim(-4,4)\n",
    "resnet18_actlayer1_max = max(resnet18_actlayer1)\n",
    "print(resnet18_actlayer1_max)\n",
    "resnet18_actlayer1_min = min(resnet18_actlayer1)\n",
    "print(resnet18_actlayer1_min)\n",
    "# y = norm.pdf(bins,mobilenet_v2_feature1_mean,mobilenet_v2_feature1_sigma)\n",
    "# plt.plot(bins,y,'k')\n",
    "\n",
    "# plt.title(\"mobilenet_v2_feature1\")\n",
    "# plt.xlabel('Value')\n",
    "# plt.ylabel('Normalized Frequency')\n",
    "\n",
    "plt.tick_params(axis='both',labelsize=20,width=1,labelcolor=\"black\")\n",
    "\n",
    "plt.savefig('Resnet18_act_small.svg',dpi=200,format='svg')\n",
    "print(resnet18_actlayer1.shape)"
   ]
  },
  {
   "cell_type": "code",
   "execution_count": 13,
   "id": "511b7ffa",
   "metadata": {},
   "outputs": [
    {
     "ename": "RuntimeError",
     "evalue": "CUDA out of memory. Tried to allocate 2.00 MiB (GPU 0; 23.70 GiB total capacity; 5.35 GiB already allocated; 3.81 MiB free; 5.35 GiB reserved in total by PyTorch) If reserved memory is >> allocated memory try setting max_split_size_mb to avoid fragmentation.  See documentation for Memory Management and PYTORCH_CUDA_ALLOC_CONF",
     "output_type": "error",
     "traceback": [
      "\u001b[0;31m---------------------------------------------------------------------------\u001b[0m",
      "\u001b[0;31mRuntimeError\u001b[0m                              Traceback (most recent call last)",
      "Cell \u001b[0;32mIn [13], line 2\u001b[0m\n\u001b[1;32m      1\u001b[0m dyresnet18_actlayer1 \u001b[38;5;241m=\u001b[39m torch\u001b[38;5;241m.\u001b[39mfrom_numpy(resnet18_actlayer1)\u001b[38;5;241m.\u001b[39mfloat()\u001b[38;5;241m.\u001b[39mto(\u001b[38;5;124m\"\u001b[39m\u001b[38;5;124mcuda\u001b[39m\u001b[38;5;124m\"\u001b[39m)\n\u001b[0;32m----> 2\u001b[0m dyresnet18_actlayer1 \u001b[38;5;241m=\u001b[39m dynbit(\u001b[38;5;241m4\u001b[39m,dyresnet18_actlayer1)\n",
      "Cell \u001b[0;32mIn [3], line 48\u001b[0m, in \u001b[0;36mdynbit\u001b[0;34m(n_bits, x)\u001b[0m\n\u001b[1;32m     46\u001b[0m    \u001b[38;5;28;01mif\u001b[39;00m integer[i] \u001b[38;5;241m==\u001b[39m \u001b[38;5;241m0\u001b[39m:\n\u001b[1;32m     47\u001b[0m      base_exp \u001b[38;5;241m=\u001b[39m \u001b[38;5;241m1\u001b[39m\n\u001b[0;32m---> 48\u001b[0m      v \u001b[38;5;241m=\u001b[39m \u001b[43msign\u001b[49m\u001b[43m[\u001b[49m\u001b[43mi\u001b[49m\u001b[43m]\u001b[49m\u001b[38;5;241;43m*\u001b[39;49m\u001b[43mbase_exp\u001b[49m\u001b[38;5;241;43m*\u001b[39;49m\u001b[43m(\u001b[49m\u001b[43mm\u001b[49m\u001b[43m[\u001b[49m\u001b[43mi\u001b[49m\u001b[43m]\u001b[49m\u001b[43m)\u001b[49m\n\u001b[1;32m     49\u001b[0m      outs\u001b[38;5;241m.\u001b[39mappend(v)\n\u001b[1;32m     51\u001b[0m x_out \u001b[38;5;241m=\u001b[39m torch\u001b[38;5;241m.\u001b[39mTensor(outs)\n",
      "\u001b[0;31mRuntimeError\u001b[0m: CUDA out of memory. Tried to allocate 2.00 MiB (GPU 0; 23.70 GiB total capacity; 5.35 GiB already allocated; 3.81 MiB free; 5.35 GiB reserved in total by PyTorch) If reserved memory is >> allocated memory try setting max_split_size_mb to avoid fragmentation.  See documentation for Memory Management and PYTORCH_CUDA_ALLOC_CONF"
     ]
    }
   ],
   "source": [
    "dyresnet18_actlayer1 = torch.from_numpy(resnet18_actlayer1).float().to(\"cuda\")\n",
    "dyresnet18_actlayer1 = dynbit(4,dyresnet18_actlayer1)"
   ]
  },
  {
   "cell_type": "code",
   "execution_count": null,
   "id": "980b6e49",
   "metadata": {},
   "outputs": [],
   "source": []
  },
  {
   "cell_type": "code",
   "execution_count": 18,
   "id": "42e6f088",
   "metadata": {},
   "outputs": [
    {
     "name": "stdout",
     "output_type": "stream",
     "text": [
      "6.31781\n",
      "-7.148602\n"
     ]
    },
    {
     "data": {
      "image/png": "[encoded data removed]",
      "text/plain": [
       "<Figure size 640x480 with 1 Axes>"
      ]
     },
     "metadata": {},
     "output_type": "display_data"
    }
   ],
   "source": [
    "mobilenet_v2_feature1_mean = np.mean(mobilenet_v2_feature1)\n",
    "mobilenet_v2_feature1_sigma = np.std(mobilenet_v2_feature1)\n",
    "n, bins, patches = plt.hist(mobilenet_v2_feature1, bins=10000, density=True, alpha=1,\n",
    "          histtype='stepfilled', facecolor = 'navy', edgecolor='ghostwhite', linewidth=2)\n",
    "\n",
    "\n",
    "plt.ylim(0,2)\n",
    "plt.xlim(-2,2)\n",
    "mobilenet_v2_feature1_max = max(mobilenet_v2_feature1)\n",
    "print(mobilenet_v2_feature1_max)\n",
    "mobilenet_v2_feature1_min = min(mobilenet_v2_feature1)\n",
    "print(mobilenet_v2_feature1_min)\n",
    "# y = norm.pdf(bins,mobilenet_v2_feature1_mean,mobilenet_v2_feature1_sigma)\n",
    "# plt.plot(bins,y,'k')\n",
    "\n",
    "# plt.title(\"mobilenet_v2_feature1\")\n",
    "# plt.xlabel('Value')\n",
    "# plt.ylabel('Normalized Frequency')\n",
    "plt.tick_params(axis='both',labelsize=20,width=1,labelcolor=\"black\")\n",
    "\n",
    "plt.savefig('Mobilenet_v2_feature1.svg',dpi=1200,format='svg')"
   ]
  },
  {
   "cell_type": "code",
   "execution_count": null,
   "id": "03833a6a",
   "metadata": {},
   "outputs": [],
   "source": []
  },
  {
   "cell_type": "code",
   "execution_count": null,
   "id": "559d786b",
   "metadata": {},
   "outputs": [],
   "source": []
  },
  {
   "cell_type": "code",
   "execution_count": 19,
   "id": "109e383d",
   "metadata": {},
   "outputs": [
    {
     "name": "stdout",
     "output_type": "stream",
     "text": [
      "After shape : torch.Size([3211264])\n"
     ]
    }
   ],
   "source": [
    "dymobilenet_v2_feature1 = torch.from_numpy(mobilenet_v2_feature1).float().to(\"cuda\")\n",
    "dymobilenet_v2_feature1 = dynbit(5,dymobilenet_v2_feature1)"
   ]
  },
  {
   "cell_type": "code",
   "execution_count": 20,
   "id": "18ebfda9",
   "metadata": {},
   "outputs": [
    {
     "name": "stdout",
     "output_type": "stream",
     "text": [
      "<built-in method type of Tensor object at 0x7fdc1b251f90>\n"
     ]
    }
   ],
   "source": [
    "print(dymobilenet_v2_feature1.type)"
   ]
  },
  {
   "cell_type": "code",
   "execution_count": 68,
   "id": "c8ee848c",
   "metadata": {},
   "outputs": [
    {
     "name": "stdout",
     "output_type": "stream",
     "text": [
      "6.31781\n",
      "-7.148602\n",
      "tensor(6.)\n",
      "tensor(-7.)\n"
     ]
    },
    {
     "data": {
      "image/png": "[encoded data removed]",
      "text/plain": [
       "<Figure size 700x200 with 2 Axes>"
      ]
     },
     "metadata": {},
     "output_type": "display_data"
    }
   ],
   "source": [
    "mobilenet_v2_feature1_mean = np.mean(mobilenet_v2_feature1)\n",
    "mobilenet_v2_feature1_sigma = np.std(mobilenet_v2_feature1)\n",
    "\n",
    "fig, subfig = plt.subplots(1,2,figsize=(7,2))\n",
    "subfig[1].hist(mobilenet_v2_feature1, bins=10000, density=True, alpha=1,\n",
    "          histtype='stepfilled', facecolor = 'navy', edgecolor='ghostwhite', linewidth=2)\n",
    "\n",
    "\n",
    "subfig[1].set_ylim(0,2)\n",
    "subfig[1].set_xlim(-2,2)\n",
    "mobilenet_v2_feature1_max = max(mobilenet_v2_feature1)\n",
    "print(mobilenet_v2_feature1_max)\n",
    "mobilenet_v2_feature1_min = min(mobilenet_v2_feature1)\n",
    "print(mobilenet_v2_feature1_min)\n",
    "\n",
    "subfig[1].tick_params(axis='both',labelsize=10,width=1,labelcolor=\"black\")\n",
    "\n",
    "\n",
    "dymobilenet_v2_feature1 = dymobilenet_v2_feature1.to(\"cpu\")\n",
    "\n",
    "\n",
    "subfig[0].hist(dymobilenet_v2_feature1, bins=1000, density=True, alpha=1,\n",
    "         histtype='step', facecolor = 'navy', edgecolor='navy', linewidth=1)\n",
    "\n",
    "subfig[0].set_xlim(-2,2)\n",
    "dymobilenet_v2_feature1_max = max(dymobilenet_v2_feature1)\n",
    "print(dymobilenet_v2_feature1_max)\n",
    "dymobilenet_v2_feature1_min = min(dymobilenet_v2_feature1)\n",
    "print(dymobilenet_v2_feature1_min)\n",
    "\n",
    "subfig[0].tick_params(axis='both',labelsize=10,width=2,labelcolor=\"black\")\n",
    "\n",
    "plt.savefig('Mobilenet_v2_feature1_5bit_subplot2.svg',dpi=1200,format='svg')"
   ]
  },
  {
   "cell_type": "code",
   "execution_count": 49,
   "id": "e35cc486",
   "metadata": {},
   "outputs": [
    {
     "name": "stdout",
     "output_type": "stream",
     "text": [
      "After shape : torch.Size([3227648])\n"
     ]
    }
   ],
   "source": [
    "dyvit_large16_enlayer6 = torch.from_numpy(vit_large16_enlayer6).float().to(\"cuda\")\n",
    "dyvit_large16_enlayer6 = dynbit(8,dyvit_large16_enlayer6)"
   ]
  },
  {
   "cell_type": "code",
   "execution_count": 69,
   "id": "b0d724b9",
   "metadata": {},
   "outputs": [
    {
     "name": "stdout",
     "output_type": "stream",
     "text": [
      "135.06511\n",
      "-23.138731\n",
      "tensor(128.)\n",
      "tensor(-23.)\n"
     ]
    },
    {
     "data": {
      "image/png": "[encoded data removed]",
      "text/plain": [
       "<Figure size 700x200 with 2 Axes>"
      ]
     },
     "metadata": {},
     "output_type": "display_data"
    }
   ],
   "source": [
    "vit_large16_enlayer6_mean = np.mean(vit_large16_enlayer6)\n",
    "vit_large16_enlayer6_sigma = np.std(vit_large16_enlayer6)\n",
    "\n",
    "fig, subfig = plt.subplots(1,2,figsize=(7,2))\n",
    "\n",
    "subfig[1].hist(vit_large16_enlayer6, bins=1000, density=True, alpha=1,\n",
    "          histtype='stepfilled', facecolor = 'navy', edgecolor='navy', linewidth=0.001)\n",
    "\n",
    "vit_max6 = max(vit_large16_enlayer6)\n",
    "print(vit_max6)\n",
    "vit_min6 = min(vit_large16_enlayer6)\n",
    "print(vit_min6)\n",
    "\n",
    "subfig[1].set_xlim(-20,20)\n",
    "\n",
    "\n",
    "\n",
    "\n",
    "subfig[1].tick_params(axis='both',labelsize=10,width=1,labelcolor=\"black\")\n",
    "\n",
    "dyvit_large16_enlayer6 = dyvit_large16_enlayer6.to(\"cpu\")\n",
    "dyvit_large16_enlayer6_mean = torch.mean(dyvit_large16_enlayer6)\n",
    "dyvit_large16_enlayer6_sigma = torch.std(dyvit_large16_enlayer6)\n",
    "\n",
    "subfig[0].hist(dyvit_large16_enlayer6, bins=1000, density=True, alpha=1,\n",
    "         histtype='barstacked', facecolor = 'navy', edgecolor='navy', linewidth=0.001)\n",
    "\n",
    "# plt.ylim(0,0.1)\n",
    "subfig[0].set_xlim(-20,20)\n",
    "dyvit_large16_enlayer6_max = max(dyvit_large16_enlayer6)\n",
    "print(dyvit_large16_enlayer6_max)\n",
    "dyvit_large16_enlayer6_min = min(dyvit_large16_enlayer6)\n",
    "print(dyvit_large16_enlayer6_min)\n",
    "\n",
    "\n",
    "\n",
    "subfig[0].tick_params(axis='both',labelsize=10,width=1,labelcolor=\"black\")\n",
    "plt.savefig('Vit_8bit_subplot2.svg',dpi=1200,format='svg')"
   ]
  },
  {
   "cell_type": "code",
   "execution_count": 63,
   "id": "9ce063a1",
   "metadata": {},
   "outputs": [
    {
     "ename": "AttributeError",
     "evalue": "'numpy.ndarray' object has no attribute 'hist'",
     "output_type": "error",
     "traceback": [
      "\u001b[0;31m---------------------------------------------------------------------------\u001b[0m",
      "\u001b[0;31mAttributeError\u001b[0m                            Traceback (most recent call last)",
      "Cell \u001b[0;32mIn [63], line 5\u001b[0m\n\u001b[1;32m      2\u001b[0m mobilenet_v2_feature1_sigma \u001b[38;5;241m=\u001b[39m np\u001b[38;5;241m.\u001b[39mstd(mobilenet_v2_feature1)\n\u001b[1;32m      4\u001b[0m fig, subfig \u001b[38;5;241m=\u001b[39m plt\u001b[38;5;241m.\u001b[39msubplots(\u001b[38;5;241m2\u001b[39m,\u001b[38;5;241m2\u001b[39m,figsize\u001b[38;5;241m=\u001b[39m(\u001b[38;5;241m5\u001b[39m,\u001b[38;5;241m2\u001b[39m))\n\u001b[0;32m----> 5\u001b[0m subfig[\u001b[38;5;241m0\u001b[39m]\u001b[38;5;241m.\u001b[39mhist(mobilenet_v2_feature1, bins\u001b[38;5;241m=\u001b[39m\u001b[38;5;241m10000\u001b[39m, density\u001b[38;5;241m=\u001b[39m\u001b[38;5;28;01mTrue\u001b[39;00m, alpha\u001b[38;5;241m=\u001b[39m\u001b[38;5;241m1\u001b[39m,\n\u001b[1;32m      6\u001b[0m           histtype\u001b[38;5;241m=\u001b[39m\u001b[38;5;124m'\u001b[39m\u001b[38;5;124mstepfilled\u001b[39m\u001b[38;5;124m'\u001b[39m, facecolor \u001b[38;5;241m=\u001b[39m \u001b[38;5;124m'\u001b[39m\u001b[38;5;124mnavy\u001b[39m\u001b[38;5;124m'\u001b[39m, edgecolor\u001b[38;5;241m=\u001b[39m\u001b[38;5;124m'\u001b[39m\u001b[38;5;124mghostwhite\u001b[39m\u001b[38;5;124m'\u001b[39m, linewidth\u001b[38;5;241m=\u001b[39m\u001b[38;5;241m2\u001b[39m)\n\u001b[1;32m      9\u001b[0m subfig[\u001b[38;5;241m0\u001b[39m]\u001b[38;5;241m.\u001b[39mset_ylim(\u001b[38;5;241m0\u001b[39m,\u001b[38;5;241m2\u001b[39m)\n\u001b[1;32m     10\u001b[0m subfig[\u001b[38;5;241m0\u001b[39m]\u001b[38;5;241m.\u001b[39mset_xlim(\u001b[38;5;241m-\u001b[39m\u001b[38;5;241m2\u001b[39m,\u001b[38;5;241m2\u001b[39m)\n",
      "\u001b[0;31mAttributeError\u001b[0m: 'numpy.ndarray' object has no attribute 'hist'"
     ]
    },
    {
     "data": {
      "image/png": "[encoded data removed]",
      "text/plain": [
       "<Figure size 500x200 with 4 Axes>"
      ]
     },
     "metadata": {},
     "output_type": "display_data"
    }
   ],
   "source": [
    "mobilenet_v2_feature1_mean = np.mean(mobilenet_v2_feature1)\n",
    "mobilenet_v2_feature1_sigma = np.std(mobilenet_v2_feature1)\n",
    "\n",
    "fig, subfig = plt.subplots(2,2,figsize=(5,2))\n",
    "subfig[0].hist(mobilenet_v2_feature1, bins=10000, density=True, alpha=1,\n",
    "          histtype='stepfilled', facecolor = 'navy', edgecolor='ghostwhite', linewidth=2)\n",
    "\n",
    "\n",
    "subfig[0].set_ylim(0,2)\n",
    "subfig[0].set_xlim(-2,2)\n",
    "mobilenet_v2_feature1_max = max(mobilenet_v2_feature1)\n",
    "print(mobilenet_v2_feature1_max)\n",
    "mobilenet_v2_feature1_min = min(mobilenet_v2_feature1)\n",
    "print(mobilenet_v2_feature1_min)\n",
    "\n",
    "subfig[0].tick_params(axis='both',labelsize=20,width=1,labelcolor=\"black\")\n",
    "\n",
    "\n",
    "dymobilenet_v2_feature1 = dymobilenet_v2_feature1.to(\"cpu\")\n",
    "\n",
    "\n",
    "subfig[1].hist(dymobilenet_v2_feature1, bins=1000, density=True, alpha=1,\n",
    "         histtype='step', facecolor = 'navy', edgecolor='navy', linewidth=1)\n",
    "\n",
    "subfig[1].set_xlim(-2,2)\n",
    "dymobilenet_v2_feature1_max = max(dymobilenet_v2_feature1)\n",
    "print(dymobilenet_v2_feature1_max)\n",
    "dymobilenet_v2_feature1_min = min(dymobilenet_v2_feature1)\n",
    "print(dymobilenet_v2_feature1_min)\n",
    "\n",
    "subfig[1].tick_params(axis='both',labelsize=20,width=1,labelcolor=\"black\")\n",
    "\n",
    "\n",
    "vit_large16_enlayer6_mean = np.mean(vit_large16_enlayer6)\n",
    "vit_large16_enlayer6_sigma = np.std(vit_large16_enlayer6)\n",
    "\n",
    "fig, subfig = plt.subplots(1,2,figsize=(10,3))\n",
    "\n",
    "subfig[2].hist(vit_large16_enlayer6, bins=1000, density=True, alpha=1,\n",
    "          histtype='stepfilled', facecolor = 'navy', edgecolor='navy', linewidth=0.001)\n",
    "\n",
    "vit_max6 = max(vit_large16_enlayer6)\n",
    "print(vit_max6)\n",
    "vit_min6 = min(vit_large16_enlayer6)\n",
    "print(vit_min6)\n",
    "\n",
    "subfig[2].set_xlim(-20,20)\n",
    "\n",
    "\n",
    "\n",
    "\n",
    "subfig[2].tick_params(axis='both',labelsize=20,width=1,labelcolor=\"black\")\n",
    "\n",
    "dyvit_large16_enlayer6 = dyvit_large16_enlayer6.to(\"cpu\")\n",
    "dyvit_large16_enlayer6_mean = torch.mean(dyvit_large16_enlayer6)\n",
    "dyvit_large16_enlayer6_sigma = torch.std(dyvit_large16_enlayer6)\n",
    "\n",
    "subfig[3].hist(dyvit_large16_enlayer6, bins=1000, density=True, alpha=1,\n",
    "         histtype='barstacked', facecolor = 'navy', edgecolor='navy', linewidth=0.001)\n",
    "\n",
    "# plt.ylim(0,0.1)\n",
    "subfig[3].set_xlim(-20,20)\n",
    "dyvit_large16_enlayer6_max = max(dyvit_large16_enlayer6)\n",
    "print(dyvit_large16_enlayer6_max)\n",
    "dyvit_large16_enlayer6_min = min(dyvit_large16_enlayer6)\n",
    "print(dyvit_large16_enlayer6_min)\n",
    "\n",
    "\n",
    "\n",
    "subfig[3].tick_params(axis='both',labelsize=20,width=1,labelcolor=\"black\")\n"
   ]
  },
  {
   "cell_type": "code",
   "execution_count": 12,
   "id": "916037e8",
   "metadata": {},
   "outputs": [
    {
     "name": "stdout",
     "output_type": "stream",
     "text": [
      "After shape : torch.Size([250880])\n"
     ]
    }
   ],
   "source": [
    "dymobilenet_v2_feature18 = torch.from_numpy(mobilenet_v2_feature18).float().to(\"cuda\")\n",
    "dymobilenet_v2_feature18 = dynbit(8,dymobilenet_v2_feature18)"
   ]
  },
  {
   "cell_type": "code",
   "execution_count": null,
   "id": "24c8ba93",
   "metadata": {},
   "outputs": [],
   "source": [
    "mobilenet_v2_feature1_mean = np.mean(mobilenet_v2_feature1)\n",
    "mobilenet_v2_feature1_sigma = np.std(mobilenet_v2_feature1)\n",
    "n, bins, patches = plt.hist(mobilenet_v2_feature1, bins=10000, density=True, alpha=1,\n",
    "          histtype='stepfilled', facecolor = 'navy', edgecolor='ghostwhite', linewidth=2)\n",
    "\n",
    "\n",
    "plt.ylim(0,2)\n",
    "plt.xlim(-2,2)\n",
    "mobilenet_v2_feature1_max = max(mobilenet_v2_feature1)\n",
    "print(mobilenet_v2_feature1_max)\n",
    "mobilenet_v2_feature1_min = min(mobilenet_v2_feature1)\n",
    "print(mobilenet_v2_feature1_min)\n",
    "# y = norm.pdf(bins,mobilenet_v2_feature1_mean,mobilenet_v2_feature1_sigma)\n",
    "# plt.plot(bins,y,'k')\n",
    "\n",
    "# plt.title(\"mobilenet_v2_feature1\")\n",
    "# plt.xlabel('Value')\n",
    "# plt.ylabel('Normalized Frequency')\n",
    "plt.tick_params(axis='both',labelsize=20,width=1,labelcolor=\"black\")\n",
    "\n",
    "plt.savefig('Mobilenet_v2_feature1.svg',dpi=1200,format='svg')"
   ]
  },
  {
   "cell_type": "code",
   "execution_count": null,
   "id": "7652adfe",
   "metadata": {},
   "outputs": [],
   "source": []
  },
  {
   "cell_type": "code",
   "execution_count": null,
   "id": "5ab04022",
   "metadata": {},
   "outputs": [],
   "source": []
  },
  {
   "cell_type": "code",
   "execution_count": 33,
   "id": "de493793",
   "metadata": {},
   "outputs": [
    {
     "data": {
      "text/plain": [
       "Text(0, 0.5, 'Normalized Frequency')"
      ]
     },
     "execution_count": 33,
     "metadata": {},
     "output_type": "execute_result"
    },
    {
     "data": {
      "image/png": "[encoded data removed]",
      "text/plain": [
       "<Figure size 640x480 with 1 Axes>"
      ]
     },
     "metadata": {},
     "output_type": "display_data"
    }
   ],
   "source": [
    "dymobilenet_v2_feature18 = dymobilenet_v2_feature18.to(\"cpu\")\n",
    "plt.hist(mobilenet_v2_feature18, bins=200, density=True, alpha=1,\n",
    "         histtype='stepfilled', color='blue',\n",
    "         edgecolor='none')\n",
    "plt.hist(dymobilenet_v2_feature18, bins=200, density=True, alpha=1,\n",
    "         histtype='barstacked',  facecolor = 'black', edgecolor='#169acf', linewidth=0.5)\n",
    "plt.title(\"8-Bit DyBit Quantization\")\n",
    "plt.xlabel('Value')\n",
    "plt.ylabel('Normalized Frequency')"
   ]
  },
  {
   "cell_type": "code",
   "execution_count": 18,
   "id": "6ba6ac0e",
   "metadata": {},
   "outputs": [
    {
     "data": {
      "text/plain": [
       "Text(0, 0.5, 'Normalized Frequency')"
      ]
     },
     "execution_count": 18,
     "metadata": {},
     "output_type": "execute_result"
    },
    {
     "data": {
      "image/png": "[encoded data removed]",
      "text/plain": [
       "<Figure size 640x480 with 1 Axes>"
      ]
     },
     "metadata": {},
     "output_type": "display_data"
    }
   ],
   "source": [
    "plt.hist(mobilenet_v2_feature18, bins=1000, density=True, alpha=0.5,\n",
    "         histtype='stepfilled', color='blue',\n",
    "         edgecolor='none');\n",
    "plt.title(\"mobilenet_v2_feature18\")\n",
    "plt.xlabel('Value')\n",
    "plt.ylabel('Normalized Frequency')"
   ]
  },
  {
   "cell_type": "code",
   "execution_count": 119,
   "id": "ba01a7b6",
   "metadata": {},
   "outputs": [
    {
     "data": {
      "text/plain": [
       "Text(0, 0.5, 'Normalized Frequency')"
      ]
     },
     "execution_count": 119,
     "metadata": {},
     "output_type": "execute_result"
    },
    {
     "data": {
      "image/png": "[encoded data removed]",
      "text/plain": [
       "<Figure size 640x480 with 1 Axes>"
      ]
     },
     "metadata": {},
     "output_type": "display_data"
    }
   ],
   "source": [
    "plt.hist(resnet18_layer1, bins=1000, density=True, alpha=0.5,\n",
    "         histtype='stepfilled', color='blue',\n",
    "         edgecolor='none');\n",
    "plt.hist(vit_large16_enlayer6, bins=1000, density=True, alpha=0.5,\n",
    "         histtype='stepfilled', color='green',\n",
    "         edgecolor='none');\n",
    "plt.title(\"resnet18_layer1\")\n",
    "plt.xlabel('Value')\n",
    "plt.ylabel('Normalized Frequency')"
   ]
  },
  {
   "cell_type": "code",
   "execution_count": 123,
   "id": "5d33e2f0",
   "metadata": {},
   "outputs": [
    {
     "name": "stdout",
     "output_type": "stream",
     "text": [
      "135.06511\n",
      "-23.138731\n"
     ]
    }
   ],
   "source": [
    "vit_max = max(vit_large16_enlayer6)\n",
    "print(vit_max)\n",
    "vit_min = min(vit_large16_enlayer6)\n",
    "print(vit_min)"
   ]
  },
  {
   "cell_type": "code",
   "execution_count": 122,
   "id": "882ec868",
   "metadata": {},
   "outputs": [
    {
     "data": {
      "image/png": "[encoded data removed]",
      "text/plain": [
       "<Figure size 640x480 with 1 Axes>"
      ]
     },
     "metadata": {},
     "output_type": "display_data"
    }
   ],
   "source": [
    "plt.hist(vit_base16_enlayer1, bins=1000, density=True, alpha=0.3,\n",
    "         histtype='stepfilled', color='blue',\n",
    "         edgecolor='none');\n",
    "# plt.hist(vit_base16_enlayer6_ln, range=(-1,1), bins=1000, density=True, alpha=0.5,\n",
    "#          histtype='stepfilled', color='green',\n",
    "#          edgecolor='none');\n"
   ]
  },
  {
   "cell_type": "code",
   "execution_count": null,
   "id": "2aec8f74",
   "metadata": {},
   "outputs": [],
   "source": []
  }
 ],
 "metadata": {
  "kernelspec": {
   "display_name": "Python 3 (ipykernel)",
   "language": "python",
   "name": "python3"
  },
  "language_info": {
   "codemirror_mode": {
    "name": "ipython",
    "version": 3
   },
   "file_extension": ".py",
   "mimetype": "text/x-python",
   "name": "python",
   "nbconvert_exporter": "python",
   "pygments_lexer": "ipython3",
   "version": "3.8.15"
  }
 },
 "nbformat": 4,
 "nbformat_minor": 5
}
